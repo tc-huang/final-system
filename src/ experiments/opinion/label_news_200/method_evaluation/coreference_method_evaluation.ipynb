{
 "cells": [
  {
   "cell_type": "code",
   "execution_count": null,
   "metadata": {},
   "outputs": [],
   "source": [
    "# for colab\n",
    "# !pip install spacy_stanza\n",
    "# !pip install ckip_transformers"
   ]
  },
  {
   "attachments": {},
   "cell_type": "markdown",
   "metadata": {},
   "source": [
    "# 1. import packages"
   ]
  },
  {
   "cell_type": "code",
   "execution_count": null,
   "metadata": {},
   "outputs": [],
   "source": [
    "import spacy\n",
    "from spacy.matcher import DependencyMatcher\n",
    "from spacy.tokens import Token, Span, SpanGroup, Doc\n",
    "from spacy.language import Language\n",
    "\n",
    "import spacy_stanza\n",
    "\n",
    "from ckip_transformers.nlp import CkipPosTagger, CkipNerChunker\n",
    "\n",
    "import json\n",
    "\n",
    "import pandas as pd\n",
    "\n",
    "from tqdm.notebook import tqdm\n",
    "\n",
    "import pickle"
   ]
  },
  {
   "cell_type": "code",
   "execution_count": null,
   "metadata": {},
   "outputs": [],
   "source": [
    "import torch\n",
    "\n",
    "if torch.cuda.is_available():\n",
    "    spacy.prefer_gpu()\n",
    "    has_gpu = True\n",
    "\n",
    "else:\n",
    "    has_gpu = False\n",
    "\n",
    "print(f\"has gpu: {has_gpu}\")"
   ]
  },
  {
   "attachments": {},
   "cell_type": "markdown",
   "metadata": {},
   "source": [
    "# 2. Prepare Spacy Pipeline"
   ]
  },
  {
   "cell_type": "code",
   "execution_count": null,
   "metadata": {},
   "outputs": [],
   "source": []
  }
 ],
 "metadata": {
  "language_info": {
   "name": "python"
  },
  "orig_nbformat": 4
 },
 "nbformat": 4,
 "nbformat_minor": 2
}
