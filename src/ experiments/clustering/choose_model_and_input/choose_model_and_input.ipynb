{
 "cells": [
  {
   "attachments": {},
   "cell_type": "markdown",
   "metadata": {},
   "source": [
    "# import"
   ]
  },
  {
   "cell_type": "code",
   "execution_count": 22,
   "metadata": {},
   "outputs": [],
   "source": [
    "import json\n",
    "import os\n",
    "import pathlib\n",
    "import pandas as pd\n",
    "from sklearn.cluster import AgglomerativeClustering\n",
    "from sklearn import metrics\n",
    "from sentence_transformers import SentenceTransformer\n",
    "import numpy as np\n",
    "import torch\n",
    "import pickle\n",
    "import matplotlib.pyplot as plt"
   ]
  },
  {
   "attachments": {},
   "cell_type": "markdown",
   "metadata": {},
   "source": [
    "# Load topic json data files"
   ]
  },
  {
   "cell_type": "code",
   "execution_count": 2,
   "metadata": {},
   "outputs": [
    {
     "name": "stdout",
     "output_type": "stream",
     "text": [
      "Total news: 684\n"
     ]
    }
   ],
   "source": [
    "topic_json_data_dir = pathlib.Path.cwd().parent / \"topic_json_data\"\n",
    "\n",
    "all_news_list = []\n",
    "\n",
    "for json_file in os.listdir(topic_json_data_dir):\n",
    "    topic_num = json_file.split('.')[0][-4:]\n",
    "    with open(os.path.join(topic_json_data_dir, json_file)) as f:\n",
    "        topic_data = json.load(f)\n",
    "        for data in topic_data['data']:\n",
    "            news_data = {\n",
    "                'topic': topic_num,\n",
    "                'title': data['title'],\n",
    "                'paragraphs': data['content'],\n",
    "                'uid': data['uid'],\n",
    "            }\n",
    "            all_news_list.append(news_data)\n",
    "\n",
    "print(\"Total news:\", len(all_news_list))"
   ]
  },
  {
   "attachments": {},
   "cell_type": "markdown",
   "metadata": {},
   "source": [
    "# Preview a news data"
   ]
  },
  {
   "cell_type": "code",
   "execution_count": 3,
   "metadata": {},
   "outputs": [
    {
     "data": {
      "text/plain": [
       "{'topic': '4092',\n",
       " 'title': '拜登簽撥款法案 外交部：友台條文質量均前所未有',\n",
       " 'paragraphs': ['針對美國總統拜登（Joe Biden）簽署「2023財政年度綜合撥款法」，外交部今天表示感謝，強調其中友台條文的「質與量均為前所未有」，且主動為台美雙方多個領域的合作增加更多資源。',\n",
       "  '外交部發布新聞稿指出，拜登在美東時間29日簽署「2023財政年度綜合撥款法」，完成法案的立法程序，並為撥款法支持台灣的各項措施及倡議注入財政資源。',\n",
       "  '外交部表示，該法案除首度納入外國軍事融資（FMF）貸款選項外，並提高挹注全球合作暨訓練架構（GCTF）經費至400萬美元，且同意美國在台協會（AIT）經費可用於台灣學人計畫（Taiwan Fellowship Program）。',\n",
       "  '撥款法另指定核撥500萬美元給予國務院及美國國際開發總署（USAID），加強與台灣等區域盟友及夥伴在太平洋島國的合作計畫，也同意自國際軍事教育暨訓練（IMET）計畫中，撥款協助台灣參與等。',\n",
       "  '針對此次立法，外交部表示，感謝拜登政府及美國國會跨黨派友人，再次展現對台美關係的支持及對台海安全的重視。政府未來將依據國家整體政策，持續與美國國會及行政部門溝通討論，逐步推動各項友台條文的落實。',\n",
       "  '外交部指出，台灣將持續在現有堅實友好的基礎上，與美國密切聯繫合作，以深化雙邊夥伴關係。'],\n",
       " 'uid': 'b8c43106-af7a-11ed-afc0-acde48001122'}"
      ]
     },
     "execution_count": 3,
     "metadata": {},
     "output_type": "execute_result"
    }
   ],
   "source": [
    "all_news_list[0]"
   ]
  },
  {
   "cell_type": "code",
   "execution_count": 4,
   "metadata": {},
   "outputs": [
    {
     "name": "stdout",
     "output_type": "stream",
     "text": [
      "Total news after remove not unique: 670\n"
     ]
    }
   ],
   "source": [
    "# remove news with same title\n",
    "title_count = {}\n",
    "for news in all_news_list:\n",
    "    if news['title'] not in title_count:\n",
    "        title_count[news['title']] = 1\n",
    "    else:\n",
    "        title_count[news['title']] += 1\n",
    "\n",
    "for news in all_news_list:\n",
    "    if title_count[news['title']] > 1:\n",
    "        all_news_list.remove(news)\n",
    "\n",
    "print(\"Total news after remove not unique:\", len(all_news_list))"
   ]
  },
  {
   "attachments": {},
   "cell_type": "markdown",
   "metadata": {},
   "source": [
    "# paragraph count and length analysis"
   ]
  },
  {
   "cell_type": "code",
   "execution_count": 6,
   "metadata": {},
   "outputs": [
    {
     "name": "stderr",
     "output_type": "stream",
     "text": [
      "/var/folders/q1/yjtyjl7n4631vjyys7_0q0k40000gn/T/ipykernel_80854/1534653062.py:18: DeprecationWarning: In a future version, `df.iloc[:, i] = newvals` will attempt to set the values inplace instead of always setting a new array. To retain the old behavior, use either `df[df.columns[i]] = newvals` or, if columns are non-unique, `df.isetitem(i, newvals)`\n",
      "  df.iloc[:, 2:] = df.iloc[:, 2:].apply(pd.to_numeric)\n"
     ]
    }
   ],
   "source": [
    "df = pd.DataFrame(columns=['topic_num', 'title', 'paragraph_count', 'title_len'] + [f'paragraph[{i}]_len' for i in range(10)])\n",
    "\n",
    "for news in all_news_list:\n",
    "    topic_num = news['topic']\n",
    "    title = news['title']\n",
    "    paragraphs = news['paragraphs']\n",
    "    title_len = len(title)\n",
    "    paragraph_count = len(paragraphs)\n",
    "    paragraph_lens = [len(p) for p in paragraphs]\n",
    "    if paragraph_count < 10:\n",
    "        paragraph_lens += [0] * (10 - paragraph_count)\n",
    "    else:\n",
    "        paragraph_lens = paragraph_lens[:10]\n",
    "\n",
    "    new_row = pd.DataFrame([[topic_num, title, paragraph_count, title_len] + paragraph_lens], columns=df.columns)\n",
    "    df = pd.concat([df, new_row], ignore_index=True)\n",
    "\n",
    "df.iloc[:, 2:] = df.iloc[:, 2:].apply(pd.to_numeric)"
   ]
  },
  {
   "cell_type": "code",
   "execution_count": 7,
   "metadata": {},
   "outputs": [
    {
     "data": {
      "text/html": [
       "<div>\n",
       "<style scoped>\n",
       "    .dataframe tbody tr th:only-of-type {\n",
       "        vertical-align: middle;\n",
       "    }\n",
       "\n",
       "    .dataframe tbody tr th {\n",
       "        vertical-align: top;\n",
       "    }\n",
       "\n",
       "    .dataframe thead th {\n",
       "        text-align: right;\n",
       "    }\n",
       "</style>\n",
       "<table border=\"1\" class=\"dataframe\">\n",
       "  <thead>\n",
       "    <tr style=\"text-align: right;\">\n",
       "      <th></th>\n",
       "      <th>paragraph_count</th>\n",
       "      <th>title_len</th>\n",
       "      <th>paragraph[0]_len</th>\n",
       "      <th>paragraph[1]_len</th>\n",
       "      <th>paragraph[2]_len</th>\n",
       "      <th>paragraph[3]_len</th>\n",
       "      <th>paragraph[4]_len</th>\n",
       "      <th>paragraph[5]_len</th>\n",
       "      <th>paragraph[6]_len</th>\n",
       "      <th>paragraph[7]_len</th>\n",
       "      <th>paragraph[8]_len</th>\n",
       "      <th>paragraph[9]_len</th>\n",
       "    </tr>\n",
       "  </thead>\n",
       "  <tbody>\n",
       "    <tr>\n",
       "      <th>count</th>\n",
       "      <td>670.000000</td>\n",
       "      <td>670.000000</td>\n",
       "      <td>670.000000</td>\n",
       "      <td>670.000000</td>\n",
       "      <td>670.000000</td>\n",
       "      <td>670.000000</td>\n",
       "      <td>670.000000</td>\n",
       "      <td>670.000000</td>\n",
       "      <td>670.000000</td>\n",
       "      <td>670.000000</td>\n",
       "      <td>670.000000</td>\n",
       "      <td>670.000000</td>\n",
       "    </tr>\n",
       "    <tr>\n",
       "      <th>mean</th>\n",
       "      <td>7.659701</td>\n",
       "      <td>22.640299</td>\n",
       "      <td>85.104478</td>\n",
       "      <td>90.220896</td>\n",
       "      <td>87.301493</td>\n",
       "      <td>84.135821</td>\n",
       "      <td>77.185075</td>\n",
       "      <td>65.235821</td>\n",
       "      <td>51.652239</td>\n",
       "      <td>38.311940</td>\n",
       "      <td>25.338806</td>\n",
       "      <td>17.089552</td>\n",
       "    </tr>\n",
       "    <tr>\n",
       "      <th>std</th>\n",
       "      <td>4.405190</td>\n",
       "      <td>2.637635</td>\n",
       "      <td>28.394580</td>\n",
       "      <td>53.551832</td>\n",
       "      <td>32.263932</td>\n",
       "      <td>35.968319</td>\n",
       "      <td>40.573929</td>\n",
       "      <td>48.211956</td>\n",
       "      <td>50.644987</td>\n",
       "      <td>48.291835</td>\n",
       "      <td>42.612799</td>\n",
       "      <td>36.473645</td>\n",
       "    </tr>\n",
       "    <tr>\n",
       "      <th>min</th>\n",
       "      <td>1.000000</td>\n",
       "      <td>13.000000</td>\n",
       "      <td>44.000000</td>\n",
       "      <td>0.000000</td>\n",
       "      <td>0.000000</td>\n",
       "      <td>0.000000</td>\n",
       "      <td>0.000000</td>\n",
       "      <td>0.000000</td>\n",
       "      <td>0.000000</td>\n",
       "      <td>0.000000</td>\n",
       "      <td>0.000000</td>\n",
       "      <td>0.000000</td>\n",
       "    </tr>\n",
       "    <tr>\n",
       "      <th>25%</th>\n",
       "      <td>5.000000</td>\n",
       "      <td>21.000000</td>\n",
       "      <td>77.000000</td>\n",
       "      <td>67.000000</td>\n",
       "      <td>66.000000</td>\n",
       "      <td>62.250000</td>\n",
       "      <td>55.000000</td>\n",
       "      <td>0.000000</td>\n",
       "      <td>0.000000</td>\n",
       "      <td>0.000000</td>\n",
       "      <td>0.000000</td>\n",
       "      <td>0.000000</td>\n",
       "    </tr>\n",
       "    <tr>\n",
       "      <th>50%</th>\n",
       "      <td>7.000000</td>\n",
       "      <td>23.000000</td>\n",
       "      <td>81.500000</td>\n",
       "      <td>87.000000</td>\n",
       "      <td>89.000000</td>\n",
       "      <td>88.000000</td>\n",
       "      <td>82.000000</td>\n",
       "      <td>73.000000</td>\n",
       "      <td>54.500000</td>\n",
       "      <td>0.000000</td>\n",
       "      <td>0.000000</td>\n",
       "      <td>0.000000</td>\n",
       "    </tr>\n",
       "    <tr>\n",
       "      <th>75%</th>\n",
       "      <td>9.000000</td>\n",
       "      <td>24.000000</td>\n",
       "      <td>90.000000</td>\n",
       "      <td>110.000000</td>\n",
       "      <td>110.000000</td>\n",
       "      <td>111.000000</td>\n",
       "      <td>106.000000</td>\n",
       "      <td>102.000000</td>\n",
       "      <td>94.000000</td>\n",
       "      <td>83.750000</td>\n",
       "      <td>53.000000</td>\n",
       "      <td>0.000000</td>\n",
       "    </tr>\n",
       "    <tr>\n",
       "      <th>max</th>\n",
       "      <td>64.000000</td>\n",
       "      <td>34.000000</td>\n",
       "      <td>687.000000</td>\n",
       "      <td>944.000000</td>\n",
       "      <td>184.000000</td>\n",
       "      <td>173.000000</td>\n",
       "      <td>208.000000</td>\n",
       "      <td>194.000000</td>\n",
       "      <td>172.000000</td>\n",
       "      <td>157.000000</td>\n",
       "      <td>190.000000</td>\n",
       "      <td>175.000000</td>\n",
       "    </tr>\n",
       "  </tbody>\n",
       "</table>\n",
       "</div>"
      ],
      "text/plain": [
       "       paragraph_count   title_len  paragraph[0]_len  paragraph[1]_len  \\\n",
       "count       670.000000  670.000000        670.000000        670.000000   \n",
       "mean          7.659701   22.640299         85.104478         90.220896   \n",
       "std           4.405190    2.637635         28.394580         53.551832   \n",
       "min           1.000000   13.000000         44.000000          0.000000   \n",
       "25%           5.000000   21.000000         77.000000         67.000000   \n",
       "50%           7.000000   23.000000         81.500000         87.000000   \n",
       "75%           9.000000   24.000000         90.000000        110.000000   \n",
       "max          64.000000   34.000000        687.000000        944.000000   \n",
       "\n",
       "       paragraph[2]_len  paragraph[3]_len  paragraph[4]_len  paragraph[5]_len  \\\n",
       "count        670.000000        670.000000        670.000000        670.000000   \n",
       "mean          87.301493         84.135821         77.185075         65.235821   \n",
       "std           32.263932         35.968319         40.573929         48.211956   \n",
       "min            0.000000          0.000000          0.000000          0.000000   \n",
       "25%           66.000000         62.250000         55.000000          0.000000   \n",
       "50%           89.000000         88.000000         82.000000         73.000000   \n",
       "75%          110.000000        111.000000        106.000000        102.000000   \n",
       "max          184.000000        173.000000        208.000000        194.000000   \n",
       "\n",
       "       paragraph[6]_len  paragraph[7]_len  paragraph[8]_len  paragraph[9]_len  \n",
       "count        670.000000        670.000000        670.000000        670.000000  \n",
       "mean          51.652239         38.311940         25.338806         17.089552  \n",
       "std           50.644987         48.291835         42.612799         36.473645  \n",
       "min            0.000000          0.000000          0.000000          0.000000  \n",
       "25%            0.000000          0.000000          0.000000          0.000000  \n",
       "50%           54.500000          0.000000          0.000000          0.000000  \n",
       "75%           94.000000         83.750000         53.000000          0.000000  \n",
       "max          172.000000        157.000000        190.000000        175.000000  "
      ]
     },
     "execution_count": 7,
     "metadata": {},
     "output_type": "execute_result"
    }
   ],
   "source": [
    "df.iloc[:, 1:].describe()"
   ]
  },
  {
   "cell_type": "code",
   "execution_count": 8,
   "metadata": {},
   "outputs": [
    {
     "data": {
      "text/plain": [
       "paragraph_count      7.659701\n",
       "title_len           22.640299\n",
       "paragraph[0]_len    85.104478\n",
       "paragraph[1]_len    90.220896\n",
       "paragraph[2]_len    87.301493\n",
       "paragraph[3]_len    84.135821\n",
       "paragraph[4]_len    77.185075\n",
       "paragraph[5]_len    65.235821\n",
       "paragraph[6]_len    51.652239\n",
       "paragraph[7]_len    38.311940\n",
       "paragraph[8]_len    25.338806\n",
       "paragraph[9]_len    17.089552\n",
       "Name: mean, dtype: float64"
      ]
     },
     "execution_count": 8,
     "metadata": {},
     "output_type": "execute_result"
    }
   ],
   "source": [
    "df.iloc[:, 1:].describe().loc['mean']"
   ]
  },
  {
   "attachments": {},
   "cell_type": "markdown",
   "metadata": {},
   "source": [
    "# Prepare input data"
   ]
  },
  {
   "cell_type": "code",
   "execution_count": 10,
   "metadata": {},
   "outputs": [],
   "source": [
    "topic_num_list = [news['topic'] for news in all_news_list]\n",
    "title_list = [news['title'] for news in all_news_list]\n",
    "paragraph0_list = [news['paragraphs'][0] for news in all_news_list]\n",
    "paragraph1_list = []\n",
    "\n",
    "for news in all_news_list:\n",
    "    if len(news['paragraphs']) > 1:\n",
    "        paragraph1_list.append(news['paragraphs'][1])\n",
    "    else:\n",
    "        paragraph1_list.append('')"
   ]
  },
  {
   "cell_type": "code",
   "execution_count": 19,
   "metadata": {},
   "outputs": [],
   "source": [
    "model_names = [\n",
    "    'paraphrase-multilingual-MiniLM-L12-v2',\n",
    "    'paraphrase-multilingual-mpnet-base-v2',\n",
    "    'distiluse-base-multilingual-cased-v2',\n",
    "    'distiluse-base-multilingual-cased-v1'\n",
    "]\n",
    "\n",
    "input_choices_text = {\n",
    "    'title': title_list,\n",
    "    'paragraph0': paragraph0_list,\n",
    "    'paragraph1': paragraph1_list,\n",
    "    'title&paragraph0': [t + p for t, p in zip(title_list, paragraph0_list)],\n",
    "    'paragraph0&paragraph1': [p0 + p1 for p0, p1 in zip(paragraph0_list, paragraph1_list)],\n",
    "    'title&paragraph0&paragraph1': [t + p0 + p1 for t, p0, p1 in zip(title_list, paragraph0_list, paragraph1_list)]\n",
    "}"
   ]
  },
  {
   "cell_type": "code",
   "execution_count": 71,
   "metadata": {},
   "outputs": [
    {
     "name": "stdout",
     "output_type": "stream",
     "text": [
      "model: paraphrase-multilingual-MiniLM-L12-v2, input: title\n"
     ]
    },
    {
     "data": {
      "application/vnd.jupyter.widget-view+json": {
       "model_id": "77442080ce244569900c3b5b1114d840",
       "version_major": 2,
       "version_minor": 0
      },
      "text/plain": [
       "Batches:   0%|          | 0/21 [00:00<?, ?it/s]"
      ]
     },
     "metadata": {},
     "output_type": "display_data"
    },
    {
     "name": "stdout",
     "output_type": "stream",
     "text": [
      "model: paraphrase-multilingual-MiniLM-L12-v2, input: paragraph0\n"
     ]
    },
    {
     "data": {
      "application/vnd.jupyter.widget-view+json": {
       "model_id": "e90337df40c1405badabc86cb56a55dd",
       "version_major": 2,
       "version_minor": 0
      },
      "text/plain": [
       "Batches:   0%|          | 0/21 [00:00<?, ?it/s]"
      ]
     },
     "metadata": {},
     "output_type": "display_data"
    },
    {
     "name": "stdout",
     "output_type": "stream",
     "text": [
      "model: paraphrase-multilingual-MiniLM-L12-v2, input: paragraph1\n"
     ]
    },
    {
     "data": {
      "application/vnd.jupyter.widget-view+json": {
       "model_id": "384056db9a4c45128cc1e9a0a3a0bc4f",
       "version_major": 2,
       "version_minor": 0
      },
      "text/plain": [
       "Batches:   0%|          | 0/21 [00:00<?, ?it/s]"
      ]
     },
     "metadata": {},
     "output_type": "display_data"
    },
    {
     "name": "stdout",
     "output_type": "stream",
     "text": [
      "model: paraphrase-multilingual-MiniLM-L12-v2, input: title&paragraph0\n"
     ]
    },
    {
     "data": {
      "application/vnd.jupyter.widget-view+json": {
       "model_id": "da300294dd174113be744e7344e450e7",
       "version_major": 2,
       "version_minor": 0
      },
      "text/plain": [
       "Batches:   0%|          | 0/21 [00:00<?, ?it/s]"
      ]
     },
     "metadata": {},
     "output_type": "display_data"
    },
    {
     "name": "stdout",
     "output_type": "stream",
     "text": [
      "model: paraphrase-multilingual-MiniLM-L12-v2, input: paragraph0&paragraph1\n"
     ]
    },
    {
     "data": {
      "application/vnd.jupyter.widget-view+json": {
       "model_id": "ff4c6cf76714446e8143bf54aadb6d0d",
       "version_major": 2,
       "version_minor": 0
      },
      "text/plain": [
       "Batches:   0%|          | 0/21 [00:00<?, ?it/s]"
      ]
     },
     "metadata": {},
     "output_type": "display_data"
    },
    {
     "name": "stdout",
     "output_type": "stream",
     "text": [
      "model: paraphrase-multilingual-MiniLM-L12-v2, input: title&paragraph0&paragraph1\n"
     ]
    },
    {
     "data": {
      "application/vnd.jupyter.widget-view+json": {
       "model_id": "15d90f7284934442827235a315c76684",
       "version_major": 2,
       "version_minor": 0
      },
      "text/plain": [
       "Batches:   0%|          | 0/21 [00:00<?, ?it/s]"
      ]
     },
     "metadata": {},
     "output_type": "display_data"
    },
    {
     "name": "stdout",
     "output_type": "stream",
     "text": [
      "model: paraphrase-multilingual-mpnet-base-v2, input: title\n"
     ]
    },
    {
     "data": {
      "application/vnd.jupyter.widget-view+json": {
       "model_id": "557db91914054a5791aa89b452a6b118",
       "version_major": 2,
       "version_minor": 0
      },
      "text/plain": [
       "Batches:   0%|          | 0/21 [00:00<?, ?it/s]"
      ]
     },
     "metadata": {},
     "output_type": "display_data"
    },
    {
     "name": "stdout",
     "output_type": "stream",
     "text": [
      "model: paraphrase-multilingual-mpnet-base-v2, input: paragraph0\n"
     ]
    },
    {
     "data": {
      "application/vnd.jupyter.widget-view+json": {
       "model_id": "56d851d012224772ad767eb597b8ba70",
       "version_major": 2,
       "version_minor": 0
      },
      "text/plain": [
       "Batches:   0%|          | 0/21 [00:00<?, ?it/s]"
      ]
     },
     "metadata": {},
     "output_type": "display_data"
    },
    {
     "name": "stdout",
     "output_type": "stream",
     "text": [
      "model: paraphrase-multilingual-mpnet-base-v2, input: paragraph1\n"
     ]
    },
    {
     "data": {
      "application/vnd.jupyter.widget-view+json": {
       "model_id": "72003e25de574e909ddf0848a7d2dadd",
       "version_major": 2,
       "version_minor": 0
      },
      "text/plain": [
       "Batches:   0%|          | 0/21 [00:00<?, ?it/s]"
      ]
     },
     "metadata": {},
     "output_type": "display_data"
    },
    {
     "name": "stdout",
     "output_type": "stream",
     "text": [
      "model: paraphrase-multilingual-mpnet-base-v2, input: title&paragraph0\n"
     ]
    },
    {
     "data": {
      "application/vnd.jupyter.widget-view+json": {
       "model_id": "cbdd4cb2dde7483e872938224413d679",
       "version_major": 2,
       "version_minor": 0
      },
      "text/plain": [
       "Batches:   0%|          | 0/21 [00:00<?, ?it/s]"
      ]
     },
     "metadata": {},
     "output_type": "display_data"
    },
    {
     "name": "stdout",
     "output_type": "stream",
     "text": [
      "model: paraphrase-multilingual-mpnet-base-v2, input: paragraph0&paragraph1\n"
     ]
    },
    {
     "data": {
      "application/vnd.jupyter.widget-view+json": {
       "model_id": "6b86cb8adcb94b87b4e89b9117b9e7f1",
       "version_major": 2,
       "version_minor": 0
      },
      "text/plain": [
       "Batches:   0%|          | 0/21 [00:00<?, ?it/s]"
      ]
     },
     "metadata": {},
     "output_type": "display_data"
    },
    {
     "name": "stdout",
     "output_type": "stream",
     "text": [
      "model: paraphrase-multilingual-mpnet-base-v2, input: title&paragraph0&paragraph1\n"
     ]
    },
    {
     "data": {
      "application/vnd.jupyter.widget-view+json": {
       "model_id": "45b03985f7ea455f9897ecdcec899d58",
       "version_major": 2,
       "version_minor": 0
      },
      "text/plain": [
       "Batches:   0%|          | 0/21 [00:00<?, ?it/s]"
      ]
     },
     "metadata": {},
     "output_type": "display_data"
    },
    {
     "name": "stdout",
     "output_type": "stream",
     "text": [
      "model: distiluse-base-multilingual-cased-v2, input: title\n"
     ]
    },
    {
     "data": {
      "application/vnd.jupyter.widget-view+json": {
       "model_id": "da581e0e5342431789c4ff7c113bbdd7",
       "version_major": 2,
       "version_minor": 0
      },
      "text/plain": [
       "Batches:   0%|          | 0/21 [00:00<?, ?it/s]"
      ]
     },
     "metadata": {},
     "output_type": "display_data"
    },
    {
     "name": "stdout",
     "output_type": "stream",
     "text": [
      "model: distiluse-base-multilingual-cased-v2, input: paragraph0\n"
     ]
    },
    {
     "data": {
      "application/vnd.jupyter.widget-view+json": {
       "model_id": "139a4879c67e408c8f19eed50e900680",
       "version_major": 2,
       "version_minor": 0
      },
      "text/plain": [
       "Batches:   0%|          | 0/21 [00:00<?, ?it/s]"
      ]
     },
     "metadata": {},
     "output_type": "display_data"
    },
    {
     "name": "stdout",
     "output_type": "stream",
     "text": [
      "model: distiluse-base-multilingual-cased-v2, input: paragraph1\n"
     ]
    },
    {
     "data": {
      "application/vnd.jupyter.widget-view+json": {
       "model_id": "e1d18060919745d7b8212c3bc2fc1ae0",
       "version_major": 2,
       "version_minor": 0
      },
      "text/plain": [
       "Batches:   0%|          | 0/21 [00:00<?, ?it/s]"
      ]
     },
     "metadata": {},
     "output_type": "display_data"
    },
    {
     "name": "stdout",
     "output_type": "stream",
     "text": [
      "model: distiluse-base-multilingual-cased-v2, input: title&paragraph0\n"
     ]
    },
    {
     "data": {
      "application/vnd.jupyter.widget-view+json": {
       "model_id": "872d9e6b5c9540bd8d736217c11251e8",
       "version_major": 2,
       "version_minor": 0
      },
      "text/plain": [
       "Batches:   0%|          | 0/21 [00:00<?, ?it/s]"
      ]
     },
     "metadata": {},
     "output_type": "display_data"
    },
    {
     "name": "stdout",
     "output_type": "stream",
     "text": [
      "model: distiluse-base-multilingual-cased-v2, input: paragraph0&paragraph1\n"
     ]
    },
    {
     "data": {
      "application/vnd.jupyter.widget-view+json": {
       "model_id": "286359470c294a428474f113667f59d7",
       "version_major": 2,
       "version_minor": 0
      },
      "text/plain": [
       "Batches:   0%|          | 0/21 [00:00<?, ?it/s]"
      ]
     },
     "metadata": {},
     "output_type": "display_data"
    },
    {
     "name": "stdout",
     "output_type": "stream",
     "text": [
      "model: distiluse-base-multilingual-cased-v2, input: title&paragraph0&paragraph1\n"
     ]
    },
    {
     "data": {
      "application/vnd.jupyter.widget-view+json": {
       "model_id": "a544caed0db14fbc87a3cce5dc0b1982",
       "version_major": 2,
       "version_minor": 0
      },
      "text/plain": [
       "Batches:   0%|          | 0/21 [00:00<?, ?it/s]"
      ]
     },
     "metadata": {},
     "output_type": "display_data"
    },
    {
     "name": "stdout",
     "output_type": "stream",
     "text": [
      "model: distiluse-base-multilingual-cased-v1, input: title\n"
     ]
    },
    {
     "data": {
      "application/vnd.jupyter.widget-view+json": {
       "model_id": "ecfb9f45eb2b4e3181a74a04184bb852",
       "version_major": 2,
       "version_minor": 0
      },
      "text/plain": [
       "Batches:   0%|          | 0/21 [00:00<?, ?it/s]"
      ]
     },
     "metadata": {},
     "output_type": "display_data"
    },
    {
     "name": "stdout",
     "output_type": "stream",
     "text": [
      "model: distiluse-base-multilingual-cased-v1, input: paragraph0\n"
     ]
    },
    {
     "data": {
      "application/vnd.jupyter.widget-view+json": {
       "model_id": "ef402e0fed0849b89733972c3f3a16dd",
       "version_major": 2,
       "version_minor": 0
      },
      "text/plain": [
       "Batches:   0%|          | 0/21 [00:00<?, ?it/s]"
      ]
     },
     "metadata": {},
     "output_type": "display_data"
    },
    {
     "name": "stdout",
     "output_type": "stream",
     "text": [
      "model: distiluse-base-multilingual-cased-v1, input: paragraph1\n"
     ]
    },
    {
     "data": {
      "application/vnd.jupyter.widget-view+json": {
       "model_id": "cb2478741d1c49298619ec959c2a9db1",
       "version_major": 2,
       "version_minor": 0
      },
      "text/plain": [
       "Batches:   0%|          | 0/21 [00:00<?, ?it/s]"
      ]
     },
     "metadata": {},
     "output_type": "display_data"
    },
    {
     "name": "stdout",
     "output_type": "stream",
     "text": [
      "model: distiluse-base-multilingual-cased-v1, input: title&paragraph0\n"
     ]
    },
    {
     "data": {
      "application/vnd.jupyter.widget-view+json": {
       "model_id": "a7be263d647c45d2897a40bc04507eeb",
       "version_major": 2,
       "version_minor": 0
      },
      "text/plain": [
       "Batches:   0%|          | 0/21 [00:00<?, ?it/s]"
      ]
     },
     "metadata": {},
     "output_type": "display_data"
    },
    {
     "name": "stdout",
     "output_type": "stream",
     "text": [
      "model: distiluse-base-multilingual-cased-v1, input: paragraph0&paragraph1\n"
     ]
    },
    {
     "data": {
      "application/vnd.jupyter.widget-view+json": {
       "model_id": "5f76fb7c97764c90a930dde0bf0022a8",
       "version_major": 2,
       "version_minor": 0
      },
      "text/plain": [
       "Batches:   0%|          | 0/21 [00:00<?, ?it/s]"
      ]
     },
     "metadata": {},
     "output_type": "display_data"
    },
    {
     "name": "stdout",
     "output_type": "stream",
     "text": [
      "model: distiluse-base-multilingual-cased-v1, input: title&paragraph0&paragraph1\n"
     ]
    },
    {
     "data": {
      "application/vnd.jupyter.widget-view+json": {
       "model_id": "31fe5914294e407b82959c431a3b5f81",
       "version_major": 2,
       "version_minor": 0
      },
      "text/plain": [
       "Batches:   0%|          | 0/21 [00:00<?, ?it/s]"
      ]
     },
     "metadata": {},
     "output_type": "display_data"
    }
   ],
   "source": [
    "input_choices_embedding = {model_name: {} for model_name in model_names}\n",
    "\n",
    "for model_name in model_names:\n",
    "    for input_choice in input_choices_text.keys():\n",
    "        print(f\"model: {model_name}, input: {input_choice}\")\n",
    "        model = SentenceTransformer(\n",
    "            model_name_or_path=model_name,\n",
    "            device = 'cuda' if torch.cuda.is_available() else 'cpu'\n",
    "            )\n",
    "        input_choices_embedding[model_name][input_choice] = model.encode(sentences=input_choices_text[input_choice], convert_to_numpy=True, show_progress_bar=True)#, normalize_embeddings=True\n",
    "\n",
    "with open('input_and_model_choices_embedding_not_norm_dict.pkl', 'wb') as f:\n",
    "    pickle.dump(input_choices_embedding, f)"
   ]
  },
  {
   "attachments": {},
   "cell_type": "markdown",
   "metadata": {},
   "source": [
    "# input and model experiment"
   ]
  },
  {
   "cell_type": "code",
   "execution_count": 72,
   "metadata": {},
   "outputs": [],
   "source": [
    "n_cluster_of_input = len(set(topic_num_list))\n",
    "linkage_choice = ['ward', 'complete', 'average', 'single']\n",
    "metric_choice = ['euclidean', 'l1', 'l2', 'manhattan', 'cosine']\n",
    "compute_distances_setting = True\n",
    "compute_full_tree_setting = 'auto'"
   ]
  },
  {
   "cell_type": "code",
   "execution_count": 75,
   "metadata": {},
   "outputs": [
    {
     "name": "stdout",
     "output_type": "stream",
     "text": [
      "model: paraphrase-multilingual-MiniLM-L12-v2, input: title, linkage: ward, metric: euclidean, homogeneity_score: 0.6973306540075628, completeness_score: 0.6593791622871532, v_measure_score: 0.6778240961393274\n",
      "model: paraphrase-multilingual-MiniLM-L12-v2, input: title, linkage: complete, metric: euclidean, homogeneity_score: 0.5275780362455025, completeness_score: 0.5916485923732765, v_measure_score: 0.5577794425726224\n",
      "model: paraphrase-multilingual-MiniLM-L12-v2, input: title, linkage: complete, metric: l1, homogeneity_score: 0.4612931381211192, completeness_score: 0.5968150201220777, v_measure_score: 0.5203752969205541\n",
      "model: paraphrase-multilingual-MiniLM-L12-v2, input: title, linkage: complete, metric: l2, homogeneity_score: 0.5275780362455025, completeness_score: 0.5916485923732765, v_measure_score: 0.5577794425726224\n",
      "model: paraphrase-multilingual-MiniLM-L12-v2, input: title, linkage: complete, metric: manhattan, homogeneity_score: 0.4612931381211192, completeness_score: 0.5968150201220777, v_measure_score: 0.5203752969205541\n",
      "model: paraphrase-multilingual-MiniLM-L12-v2, input: title, linkage: complete, metric: cosine, homogeneity_score: 0.5905438147199973, completeness_score: 0.5840676489375809, v_measure_score: 0.587287878809072\n",
      "model: paraphrase-multilingual-MiniLM-L12-v2, input: title, linkage: average, metric: euclidean, homogeneity_score: 0.2880417851141281, completeness_score: 0.7062925125550914, v_measure_score: 0.4092019285787309\n",
      "model: paraphrase-multilingual-MiniLM-L12-v2, input: title, linkage: average, metric: l1, homogeneity_score: 0.2847487771319813, completeness_score: 0.7129585306240804, v_measure_score: 0.40696117621433286\n",
      "model: paraphrase-multilingual-MiniLM-L12-v2, input: title, linkage: average, metric: l2, homogeneity_score: 0.2880417851141281, completeness_score: 0.7062925125550914, v_measure_score: 0.4092019285787309\n",
      "model: paraphrase-multilingual-MiniLM-L12-v2, input: title, linkage: average, metric: manhattan, homogeneity_score: 0.2847487771319813, completeness_score: 0.7129585306240804, v_measure_score: 0.40696117621433286\n",
      "model: paraphrase-multilingual-MiniLM-L12-v2, input: title, linkage: average, metric: cosine, homogeneity_score: 0.5513803863676006, completeness_score: 0.7263415743370847, v_measure_score: 0.626882076397835\n",
      "model: paraphrase-multilingual-MiniLM-L12-v2, input: title, linkage: single, metric: euclidean, homogeneity_score: 0.03196337961020329, completeness_score: 0.44723852364017797, v_measure_score: 0.05966276264954093\n",
      "model: paraphrase-multilingual-MiniLM-L12-v2, input: title, linkage: single, metric: l1, homogeneity_score: 0.029827969267253458, completeness_score: 0.4173594000683395, v_measure_score: 0.05567681116366861\n",
      "model: paraphrase-multilingual-MiniLM-L12-v2, input: title, linkage: single, metric: l2, homogeneity_score: 0.03196337961020329, completeness_score: 0.44723852364017797, v_measure_score: 0.05966276264954093\n",
      "model: paraphrase-multilingual-MiniLM-L12-v2, input: title, linkage: single, metric: manhattan, homogeneity_score: 0.029827969267253458, completeness_score: 0.4173594000683395, v_measure_score: 0.05567681116366861\n",
      "model: paraphrase-multilingual-MiniLM-L12-v2, input: title, linkage: single, metric: cosine, homogeneity_score: 0.02846546377423537, completeness_score: 0.39829492839543407, v_measure_score: 0.05313356189434904\n",
      "model: paraphrase-multilingual-MiniLM-L12-v2, input: paragraph0, linkage: ward, metric: euclidean, homogeneity_score: 0.849369760882194, completeness_score: 0.8106999267874232, v_measure_score: 0.8295844542879045\n",
      "model: paraphrase-multilingual-MiniLM-L12-v2, input: paragraph0, linkage: complete, metric: euclidean, homogeneity_score: 0.7064755254833103, completeness_score: 0.7301110043381022, v_measure_score: 0.7180988332321755\n",
      "model: paraphrase-multilingual-MiniLM-L12-v2, input: paragraph0, linkage: complete, metric: l1, homogeneity_score: 0.6733008568214198, completeness_score: 0.6883002428822962, v_measure_score: 0.680717933297622\n",
      "model: paraphrase-multilingual-MiniLM-L12-v2, input: paragraph0, linkage: complete, metric: l2, homogeneity_score: 0.7064755254833103, completeness_score: 0.7301110043381022, v_measure_score: 0.7180988332321755\n",
      "model: paraphrase-multilingual-MiniLM-L12-v2, input: paragraph0, linkage: complete, metric: manhattan, homogeneity_score: 0.6733008568214198, completeness_score: 0.6883002428822962, v_measure_score: 0.680717933297622\n",
      "model: paraphrase-multilingual-MiniLM-L12-v2, input: paragraph0, linkage: complete, metric: cosine, homogeneity_score: 0.7888292288997538, completeness_score: 0.7950688549960154, v_measure_score: 0.7919367517209385\n",
      "model: paraphrase-multilingual-MiniLM-L12-v2, input: paragraph0, linkage: average, metric: euclidean, homogeneity_score: 0.38442829741119744, completeness_score: 0.8656676571808849, v_measure_score: 0.5324185593138396\n",
      "model: paraphrase-multilingual-MiniLM-L12-v2, input: paragraph0, linkage: average, metric: l1, homogeneity_score: 0.38703816273390407, completeness_score: 0.8711207256067005, v_measure_score: 0.5359529202276219\n",
      "model: paraphrase-multilingual-MiniLM-L12-v2, input: paragraph0, linkage: average, metric: l2, homogeneity_score: 0.38442829741119744, completeness_score: 0.8656676571808849, v_measure_score: 0.5324185593138396\n",
      "model: paraphrase-multilingual-MiniLM-L12-v2, input: paragraph0, linkage: average, metric: manhattan, homogeneity_score: 0.38703816273390407, completeness_score: 0.8711207256067005, v_measure_score: 0.5359529202276219\n",
      "model: paraphrase-multilingual-MiniLM-L12-v2, input: paragraph0, linkage: average, metric: cosine, homogeneity_score: 0.6133896923787675, completeness_score: 0.8569791638728291, v_measure_score: 0.7150072357259196\n",
      "model: paraphrase-multilingual-MiniLM-L12-v2, input: paragraph0, linkage: single, metric: euclidean, homogeneity_score: 0.027064522629889204, completeness_score: 0.39922901331300065, v_measure_score: 0.050692500609559196\n",
      "model: paraphrase-multilingual-MiniLM-L12-v2, input: paragraph0, linkage: single, metric: l1, homogeneity_score: 0.02848351332529516, completeness_score: 0.4201605576440882, v_measure_score: 0.053350304247018726\n",
      "model: paraphrase-multilingual-MiniLM-L12-v2, input: paragraph0, linkage: single, metric: l2, homogeneity_score: 0.027064522629889204, completeness_score: 0.39922901331300065, v_measure_score: 0.050692500609559196\n",
      "model: paraphrase-multilingual-MiniLM-L12-v2, input: paragraph0, linkage: single, metric: manhattan, homogeneity_score: 0.02848351332529516, completeness_score: 0.4201605576440882, v_measure_score: 0.053350304247018726\n",
      "model: paraphrase-multilingual-MiniLM-L12-v2, input: paragraph0, linkage: single, metric: cosine, homogeneity_score: 0.02375566861051894, completeness_score: 0.3504200783314138, v_measure_score: 0.04449493759735852\n",
      "model: paraphrase-multilingual-MiniLM-L12-v2, input: paragraph1, linkage: ward, metric: euclidean, homogeneity_score: 0.6282904275736203, completeness_score: 0.6266235749186256, v_measure_score: 0.6274558942388827\n",
      "model: paraphrase-multilingual-MiniLM-L12-v2, input: paragraph1, linkage: complete, metric: euclidean, homogeneity_score: 0.4909269222844597, completeness_score: 0.5427061097510777, v_measure_score: 0.515519593332634\n",
      "model: paraphrase-multilingual-MiniLM-L12-v2, input: paragraph1, linkage: complete, metric: l1, homogeneity_score: 0.5625044721223661, completeness_score: 0.5583024690063341, v_measure_score: 0.560395593726003\n",
      "model: paraphrase-multilingual-MiniLM-L12-v2, input: paragraph1, linkage: complete, metric: l2, homogeneity_score: 0.4909269222844597, completeness_score: 0.5427061097510777, v_measure_score: 0.515519593332634\n",
      "model: paraphrase-multilingual-MiniLM-L12-v2, input: paragraph1, linkage: complete, metric: manhattan, homogeneity_score: 0.5625044721223661, completeness_score: 0.5583024690063341, v_measure_score: 0.560395593726003\n",
      "model: paraphrase-multilingual-MiniLM-L12-v2, input: paragraph1, linkage: complete, metric: cosine, homogeneity_score: 0.5651591389841328, completeness_score: 0.5517789836420751, v_measure_score: 0.5583889187549125\n",
      "model: paraphrase-multilingual-MiniLM-L12-v2, input: paragraph1, linkage: average, metric: euclidean, homogeneity_score: 0.21505481996371947, completeness_score: 0.6887297488456126, v_measure_score: 0.3277653928895485\n",
      "model: paraphrase-multilingual-MiniLM-L12-v2, input: paragraph1, linkage: average, metric: l1, homogeneity_score: 0.21080868183776946, completeness_score: 0.7007732629489565, v_measure_score: 0.3241158706011556\n",
      "model: paraphrase-multilingual-MiniLM-L12-v2, input: paragraph1, linkage: average, metric: l2, homogeneity_score: 0.21505481996371947, completeness_score: 0.6887297488456126, v_measure_score: 0.3277653928895485\n",
      "model: paraphrase-multilingual-MiniLM-L12-v2, input: paragraph1, linkage: average, metric: manhattan, homogeneity_score: 0.21080868183776946, completeness_score: 0.7007732629489565, v_measure_score: 0.3241158706011556\n",
      "model: paraphrase-multilingual-MiniLM-L12-v2, input: paragraph1, linkage: average, metric: cosine, homogeneity_score: 0.4964976202586623, completeness_score: 0.6399975454518395, v_measure_score: 0.5591880509048559\n",
      "model: paraphrase-multilingual-MiniLM-L12-v2, input: paragraph1, linkage: single, metric: euclidean, homogeneity_score: 0.029531163231593435, completeness_score: 0.4356144507021173, v_measure_score: 0.055312577671896325\n",
      "model: paraphrase-multilingual-MiniLM-L12-v2, input: paragraph1, linkage: single, metric: l1, homogeneity_score: 0.02953116323159344, completeness_score: 0.4356144507021174, v_measure_score: 0.05531257767189633\n",
      "model: paraphrase-multilingual-MiniLM-L12-v2, input: paragraph1, linkage: single, metric: l2, homogeneity_score: 0.029531163231593435, completeness_score: 0.4356144507021173, v_measure_score: 0.055312577671896325\n",
      "model: paraphrase-multilingual-MiniLM-L12-v2, input: paragraph1, linkage: single, metric: manhattan, homogeneity_score: 0.02953116323159344, completeness_score: 0.4356144507021174, v_measure_score: 0.05531257767189633\n",
      "model: paraphrase-multilingual-MiniLM-L12-v2, input: paragraph1, linkage: single, metric: cosine, homogeneity_score: 0.027070206694403198, completeness_score: 0.37877218943314206, v_measure_score: 0.05052917859682861\n",
      "model: paraphrase-multilingual-MiniLM-L12-v2, input: title&paragraph0, linkage: ward, metric: euclidean, homogeneity_score: 0.875842847659801, completeness_score: 0.8468504032332521, v_measure_score: 0.8611026580909366\n",
      "model: paraphrase-multilingual-MiniLM-L12-v2, input: title&paragraph0, linkage: complete, metric: euclidean, homogeneity_score: 0.7649307849096714, completeness_score: 0.7852812155419984, v_measure_score: 0.7749724249384546\n",
      "model: paraphrase-multilingual-MiniLM-L12-v2, input: title&paragraph0, linkage: complete, metric: l1, homogeneity_score: 0.7897033587649852, completeness_score: 0.8204016374805478, v_measure_score: 0.8047598512710719\n",
      "model: paraphrase-multilingual-MiniLM-L12-v2, input: title&paragraph0, linkage: complete, metric: l2, homogeneity_score: 0.7649307849096714, completeness_score: 0.7852812155419984, v_measure_score: 0.7749724249384546\n",
      "model: paraphrase-multilingual-MiniLM-L12-v2, input: title&paragraph0, linkage: complete, metric: manhattan, homogeneity_score: 0.7897033587649852, completeness_score: 0.8204016374805478, v_measure_score: 0.8047598512710719\n",
      "model: paraphrase-multilingual-MiniLM-L12-v2, input: title&paragraph0, linkage: complete, metric: cosine, homogeneity_score: 0.7405017109100134, completeness_score: 0.7524517965980185, v_measure_score: 0.7464289275667862\n",
      "model: paraphrase-multilingual-MiniLM-L12-v2, input: title&paragraph0, linkage: average, metric: euclidean, homogeneity_score: 0.4756635854152825, completeness_score: 0.9025451039849847, v_measure_score: 0.6229939536186232\n",
      "model: paraphrase-multilingual-MiniLM-L12-v2, input: title&paragraph0, linkage: average, metric: l1, homogeneity_score: 0.46887464189020683, completeness_score: 0.8936421547013251, v_measure_score: 0.6150473099660294\n",
      "model: paraphrase-multilingual-MiniLM-L12-v2, input: title&paragraph0, linkage: average, metric: l2, homogeneity_score: 0.4756635854152825, completeness_score: 0.9025451039849847, v_measure_score: 0.6229939536186232\n",
      "model: paraphrase-multilingual-MiniLM-L12-v2, input: title&paragraph0, linkage: average, metric: manhattan, homogeneity_score: 0.46887464189020683, completeness_score: 0.8936421547013251, v_measure_score: 0.6150473099660294\n",
      "model: paraphrase-multilingual-MiniLM-L12-v2, input: title&paragraph0, linkage: average, metric: cosine, homogeneity_score: 0.6634819654015339, completeness_score: 0.8720140434122734, v_measure_score: 0.753587880476308\n",
      "model: paraphrase-multilingual-MiniLM-L12-v2, input: title&paragraph0, linkage: single, metric: euclidean, homogeneity_score: 0.030146591781016936, completeness_score: 0.4446926426920863, v_measure_score: 0.05646529011923642\n",
      "model: paraphrase-multilingual-MiniLM-L12-v2, input: title&paragraph0, linkage: single, metric: l1, homogeneity_score: 0.027986062077863815, completeness_score: 0.4128226498819903, v_measure_score: 0.05241856611852905\n",
      "model: paraphrase-multilingual-MiniLM-L12-v2, input: title&paragraph0, linkage: single, metric: l2, homogeneity_score: 0.030146591781016936, completeness_score: 0.4446926426920863, v_measure_score: 0.05646529011923642\n",
      "model: paraphrase-multilingual-MiniLM-L12-v2, input: title&paragraph0, linkage: single, metric: manhattan, homogeneity_score: 0.027986062077863815, completeness_score: 0.4128226498819903, v_measure_score: 0.05241856611852905\n",
      "model: paraphrase-multilingual-MiniLM-L12-v2, input: title&paragraph0, linkage: single, metric: cosine, homogeneity_score: 0.02899699352012577, completeness_score: 0.405732207610645, v_measure_score: 0.05412571395889814\n",
      "model: paraphrase-multilingual-MiniLM-L12-v2, input: paragraph0&paragraph1, linkage: ward, metric: euclidean, homogeneity_score: 0.838504911793073, completeness_score: 0.7889312524732218, v_measure_score: 0.8129630455448249\n",
      "model: paraphrase-multilingual-MiniLM-L12-v2, input: paragraph0&paragraph1, linkage: complete, metric: euclidean, homogeneity_score: 0.6728487074011469, completeness_score: 0.6983512149946515, v_measure_score: 0.6853628047180402\n",
      "model: paraphrase-multilingual-MiniLM-L12-v2, input: paragraph0&paragraph1, linkage: complete, metric: l1, homogeneity_score: 0.7384800474404288, completeness_score: 0.7461988084522259, v_measure_score: 0.7423193632463686\n",
      "model: paraphrase-multilingual-MiniLM-L12-v2, input: paragraph0&paragraph1, linkage: complete, metric: l2, homogeneity_score: 0.6728487074011469, completeness_score: 0.6983512149946515, v_measure_score: 0.6853628047180402\n",
      "model: paraphrase-multilingual-MiniLM-L12-v2, input: paragraph0&paragraph1, linkage: complete, metric: manhattan, homogeneity_score: 0.7384800474404288, completeness_score: 0.7461988084522259, v_measure_score: 0.7423193632463686\n",
      "model: paraphrase-multilingual-MiniLM-L12-v2, input: paragraph0&paragraph1, linkage: complete, metric: cosine, homogeneity_score: 0.7674210075879868, completeness_score: 0.7641299798841144, v_measure_score: 0.7657719578226411\n",
      "model: paraphrase-multilingual-MiniLM-L12-v2, input: paragraph0&paragraph1, linkage: average, metric: euclidean, homogeneity_score: 0.44532396221350495, completeness_score: 0.8627189197750859, v_measure_score: 0.587426319000675\n",
      "model: paraphrase-multilingual-MiniLM-L12-v2, input: paragraph0&paragraph1, linkage: average, metric: l1, homogeneity_score: 0.4411883821550747, completeness_score: 0.834416306097908, v_measure_score: 0.5771925793645873\n",
      "model: paraphrase-multilingual-MiniLM-L12-v2, input: paragraph0&paragraph1, linkage: average, metric: l2, homogeneity_score: 0.44532396221350495, completeness_score: 0.8627189197750859, v_measure_score: 0.587426319000675\n",
      "model: paraphrase-multilingual-MiniLM-L12-v2, input: paragraph0&paragraph1, linkage: average, metric: manhattan, homogeneity_score: 0.4411883821550747, completeness_score: 0.834416306097908, v_measure_score: 0.5771925793645873\n",
      "model: paraphrase-multilingual-MiniLM-L12-v2, input: paragraph0&paragraph1, linkage: average, metric: cosine, homogeneity_score: 0.6293462343298781, completeness_score: 0.8479524066285058, v_measure_score: 0.722474981302905\n",
      "model: paraphrase-multilingual-MiniLM-L12-v2, input: paragraph0&paragraph1, linkage: single, metric: euclidean, homogeneity_score: 0.026996356448421518, completeness_score: 0.3777388608118855, v_measure_score: 0.05039132991651544\n",
      "model: paraphrase-multilingual-MiniLM-L12-v2, input: paragraph0&paragraph1, linkage: single, metric: l1, homogeneity_score: 0.02720365498947757, completeness_score: 0.38063942685293944, v_measure_score: 0.050778272843185035\n",
      "model: paraphrase-multilingual-MiniLM-L12-v2, input: paragraph0&paragraph1, linkage: single, metric: l2, homogeneity_score: 0.026996356448421518, completeness_score: 0.3777388608118855, v_measure_score: 0.05039132991651544\n",
      "model: paraphrase-multilingual-MiniLM-L12-v2, input: paragraph0&paragraph1, linkage: single, metric: manhattan, homogeneity_score: 0.02720365498947757, completeness_score: 0.38063942685293944, v_measure_score: 0.050778272843185035\n",
      "model: paraphrase-multilingual-MiniLM-L12-v2, input: paragraph0&paragraph1, linkage: single, metric: cosine, homogeneity_score: 0.030114663509766226, completeness_score: 0.383612952171605, v_measure_score: 0.0558453172317745\n",
      "model: paraphrase-multilingual-MiniLM-L12-v2, input: title&paragraph0&paragraph1, linkage: ward, metric: euclidean, homogeneity_score: 0.8786396166275774, completeness_score: 0.8684801615916135, v_measure_score: 0.8735303506292019\n",
      "model: paraphrase-multilingual-MiniLM-L12-v2, input: title&paragraph0&paragraph1, linkage: complete, metric: euclidean, homogeneity_score: 0.8021020629872172, completeness_score: 0.7915015595787349, v_measure_score: 0.7967665545005108\n",
      "model: paraphrase-multilingual-MiniLM-L12-v2, input: title&paragraph0&paragraph1, linkage: complete, metric: l1, homogeneity_score: 0.6936613173413138, completeness_score: 0.7623627737177159, v_measure_score: 0.7263912309642813\n",
      "model: paraphrase-multilingual-MiniLM-L12-v2, input: title&paragraph0&paragraph1, linkage: complete, metric: l2, homogeneity_score: 0.8021020629872172, completeness_score: 0.7915015595787349, v_measure_score: 0.7967665545005108\n",
      "model: paraphrase-multilingual-MiniLM-L12-v2, input: title&paragraph0&paragraph1, linkage: complete, metric: manhattan, homogeneity_score: 0.6936613173413138, completeness_score: 0.7623627737177159, v_measure_score: 0.7263912309642813\n",
      "model: paraphrase-multilingual-MiniLM-L12-v2, input: title&paragraph0&paragraph1, linkage: complete, metric: cosine, homogeneity_score: 0.778965371094179, completeness_score: 0.7743359607340659, v_measure_score: 0.7766437672397175\n",
      "model: paraphrase-multilingual-MiniLM-L12-v2, input: title&paragraph0&paragraph1, linkage: average, metric: euclidean, homogeneity_score: 0.48959562647384874, completeness_score: 0.884518934728191, v_measure_score: 0.6303064012325192\n",
      "model: paraphrase-multilingual-MiniLM-L12-v2, input: title&paragraph0&paragraph1, linkage: average, metric: l1, homogeneity_score: 0.5540441359961018, completeness_score: 0.9048636182962196, v_measure_score: 0.6872735854864517\n",
      "model: paraphrase-multilingual-MiniLM-L12-v2, input: title&paragraph0&paragraph1, linkage: average, metric: l2, homogeneity_score: 0.48959562647384874, completeness_score: 0.884518934728191, v_measure_score: 0.6303064012325192\n",
      "model: paraphrase-multilingual-MiniLM-L12-v2, input: title&paragraph0&paragraph1, linkage: average, metric: manhattan, homogeneity_score: 0.5540441359961018, completeness_score: 0.9048636182962196, v_measure_score: 0.6872735854864517\n",
      "model: paraphrase-multilingual-MiniLM-L12-v2, input: title&paragraph0&paragraph1, linkage: average, metric: cosine, homogeneity_score: 0.6288961813722392, completeness_score: 0.8696931882437541, v_measure_score: 0.7299487586677564\n",
      "model: paraphrase-multilingual-MiniLM-L12-v2, input: title&paragraph0&paragraph1, linkage: single, metric: euclidean, homogeneity_score: 0.03178555032407268, completeness_score: 0.4247801331037831, v_measure_score: 0.05914535755760579\n",
      "model: paraphrase-multilingual-MiniLM-L12-v2, input: title&paragraph0&paragraph1, linkage: single, metric: l1, homogeneity_score: 0.0319828827726412, completeness_score: 0.4274172717694348, v_measure_score: 0.05951254636224521\n",
      "model: paraphrase-multilingual-MiniLM-L12-v2, input: title&paragraph0&paragraph1, linkage: single, metric: l2, homogeneity_score: 0.03178555032407268, completeness_score: 0.4247801331037831, v_measure_score: 0.05914535755760579\n",
      "model: paraphrase-multilingual-MiniLM-L12-v2, input: title&paragraph0&paragraph1, linkage: single, metric: manhattan, homogeneity_score: 0.0319828827726412, completeness_score: 0.4274172717694348, v_measure_score: 0.05951254636224521\n",
      "model: paraphrase-multilingual-MiniLM-L12-v2, input: title&paragraph0&paragraph1, linkage: single, metric: cosine, homogeneity_score: 0.09458493001869574, completeness_score: 0.7117247674768585, v_measure_score: 0.1669791087307178\n",
      "model: paraphrase-multilingual-mpnet-base-v2, input: title, linkage: ward, metric: euclidean, homogeneity_score: 0.4956625671856223, completeness_score: 0.4983666935963699, v_measure_score: 0.49701095228013265\n",
      "model: paraphrase-multilingual-mpnet-base-v2, input: title, linkage: complete, metric: euclidean, homogeneity_score: 0.4122115137017952, completeness_score: 0.5332197044362063, v_measure_score: 0.4649715331680301\n",
      "model: paraphrase-multilingual-mpnet-base-v2, input: title, linkage: complete, metric: l1, homogeneity_score: 0.3949634837538046, completeness_score: 0.5100862647280179, v_measure_score: 0.445203036562116\n",
      "model: paraphrase-multilingual-mpnet-base-v2, input: title, linkage: complete, metric: l2, homogeneity_score: 0.4122115137017952, completeness_score: 0.5332197044362063, v_measure_score: 0.4649715331680301\n",
      "model: paraphrase-multilingual-mpnet-base-v2, input: title, linkage: complete, metric: manhattan, homogeneity_score: 0.3949634837538046, completeness_score: 0.5100862647280179, v_measure_score: 0.445203036562116\n",
      "model: paraphrase-multilingual-mpnet-base-v2, input: title, linkage: complete, metric: cosine, homogeneity_score: 0.4794891696611583, completeness_score: 0.5980925689587844, v_measure_score: 0.5322638626705644\n",
      "model: paraphrase-multilingual-mpnet-base-v2, input: title, linkage: average, metric: euclidean, homogeneity_score: 0.17710283845102354, completeness_score: 0.6488111824701857, v_measure_score: 0.27825245515524843\n",
      "model: paraphrase-multilingual-mpnet-base-v2, input: title, linkage: average, metric: l1, homogeneity_score: 0.27902401649825537, completeness_score: 0.6887463548201843, v_measure_score: 0.39715366364987753\n",
      "model: paraphrase-multilingual-mpnet-base-v2, input: title, linkage: average, metric: l2, homogeneity_score: 0.17710283845102354, completeness_score: 0.6488111824701857, v_measure_score: 0.27825245515524843\n",
      "model: paraphrase-multilingual-mpnet-base-v2, input: title, linkage: average, metric: manhattan, homogeneity_score: 0.27902401649825537, completeness_score: 0.6887463548201843, v_measure_score: 0.39715366364987753\n",
      "model: paraphrase-multilingual-mpnet-base-v2, input: title, linkage: average, metric: cosine, homogeneity_score: 0.4586249411671845, completeness_score: 0.654021546537215, v_measure_score: 0.5391660273364205\n",
      "model: paraphrase-multilingual-mpnet-base-v2, input: title, linkage: single, metric: euclidean, homogeneity_score: 0.035866877380283956, completeness_score: 0.4550582938971816, v_measure_score: 0.0664929035340365\n",
      "model: paraphrase-multilingual-mpnet-base-v2, input: title, linkage: single, metric: l1, homogeneity_score: 0.030271623444061483, completeness_score: 0.4235671053067142, v_measure_score: 0.05650493491566777\n",
      "model: paraphrase-multilingual-mpnet-base-v2, input: title, linkage: single, metric: l2, homogeneity_score: 0.035866877380283956, completeness_score: 0.4550582938971816, v_measure_score: 0.0664929035340365\n",
      "model: paraphrase-multilingual-mpnet-base-v2, input: title, linkage: single, metric: manhattan, homogeneity_score: 0.030271623444061483, completeness_score: 0.4235671053067142, v_measure_score: 0.05650493491566777\n",
      "model: paraphrase-multilingual-mpnet-base-v2, input: title, linkage: single, metric: cosine, homogeneity_score: 0.025874760849051485, completeness_score: 0.38167882673343756, v_measure_score: 0.04846404823206411\n",
      "model: paraphrase-multilingual-mpnet-base-v2, input: paragraph0, linkage: ward, metric: euclidean, homogeneity_score: 0.8537124626854077, completeness_score: 0.8085439595445376, v_measure_score: 0.8305145291196129\n",
      "model: paraphrase-multilingual-mpnet-base-v2, input: paragraph0, linkage: complete, metric: euclidean, homogeneity_score: 0.7049693864732655, completeness_score: 0.7197723079069596, v_measure_score: 0.7122939467653421\n",
      "model: paraphrase-multilingual-mpnet-base-v2, input: paragraph0, linkage: complete, metric: l1, homogeneity_score: 0.7005670567982263, completeness_score: 0.7777207952635453, v_measure_score: 0.7371305497622271\n",
      "model: paraphrase-multilingual-mpnet-base-v2, input: paragraph0, linkage: complete, metric: l2, homogeneity_score: 0.7049693864732655, completeness_score: 0.7197723079069596, v_measure_score: 0.7122939467653421\n",
      "model: paraphrase-multilingual-mpnet-base-v2, input: paragraph0, linkage: complete, metric: manhattan, homogeneity_score: 0.7005670567982263, completeness_score: 0.7777207952635453, v_measure_score: 0.7371305497622271\n",
      "model: paraphrase-multilingual-mpnet-base-v2, input: paragraph0, linkage: complete, metric: cosine, homogeneity_score: 0.7318082405428841, completeness_score: 0.7322120382377204, v_measure_score: 0.7320100837037176\n",
      "model: paraphrase-multilingual-mpnet-base-v2, input: paragraph0, linkage: average, metric: euclidean, homogeneity_score: 0.4478685671139231, completeness_score: 0.8890082215499148, v_measure_score: 0.5956552491811955\n",
      "model: paraphrase-multilingual-mpnet-base-v2, input: paragraph0, linkage: average, metric: l1, homogeneity_score: 0.49233551684002025, completeness_score: 0.9137036125698851, v_measure_score: 0.6398808268187859\n",
      "model: paraphrase-multilingual-mpnet-base-v2, input: paragraph0, linkage: average, metric: l2, homogeneity_score: 0.4478685671139231, completeness_score: 0.8890082215499148, v_measure_score: 0.5956552491811955\n",
      "model: paraphrase-multilingual-mpnet-base-v2, input: paragraph0, linkage: average, metric: manhattan, homogeneity_score: 0.49233551684002025, completeness_score: 0.9137036125698851, v_measure_score: 0.6398808268187859\n",
      "model: paraphrase-multilingual-mpnet-base-v2, input: paragraph0, linkage: average, metric: cosine, homogeneity_score: 0.596971161010691, completeness_score: 0.8640722777344342, v_measure_score: 0.7061066319551939\n",
      "model: paraphrase-multilingual-mpnet-base-v2, input: paragraph0, linkage: single, metric: euclidean, homogeneity_score: 0.031504629015984185, completeness_score: 0.44081958606287275, v_measure_score: 0.058806459963404036\n",
      "model: paraphrase-multilingual-mpnet-base-v2, input: paragraph0, linkage: single, metric: l1, homogeneity_score: 0.031504629015984185, completeness_score: 0.44081958606287275, v_measure_score: 0.058806459963404036\n",
      "model: paraphrase-multilingual-mpnet-base-v2, input: paragraph0, linkage: single, metric: l2, homogeneity_score: 0.031504629015984185, completeness_score: 0.44081958606287275, v_measure_score: 0.058806459963404036\n",
      "model: paraphrase-multilingual-mpnet-base-v2, input: paragraph0, linkage: single, metric: manhattan, homogeneity_score: 0.031504629015984185, completeness_score: 0.44081958606287275, v_measure_score: 0.058806459963404036\n",
      "model: paraphrase-multilingual-mpnet-base-v2, input: paragraph0, linkage: single, metric: cosine, homogeneity_score: 0.08910482120651002, completeness_score: 0.6793987360100067, v_measure_score: 0.15754696860315187\n",
      "model: paraphrase-multilingual-mpnet-base-v2, input: paragraph1, linkage: ward, metric: euclidean, homogeneity_score: 0.6482796234834907, completeness_score: 0.6257120256211915, v_measure_score: 0.6367959423656595\n",
      "model: paraphrase-multilingual-mpnet-base-v2, input: paragraph1, linkage: complete, metric: euclidean, homogeneity_score: 0.5714954999422928, completeness_score: 0.6459055149612778, v_measure_score: 0.6064264620602738\n",
      "model: paraphrase-multilingual-mpnet-base-v2, input: paragraph1, linkage: complete, metric: l1, homogeneity_score: 0.5406929910615098, completeness_score: 0.5609186316805345, v_measure_score: 0.5506201395198884\n",
      "model: paraphrase-multilingual-mpnet-base-v2, input: paragraph1, linkage: complete, metric: l2, homogeneity_score: 0.5714954999422928, completeness_score: 0.6459055149612778, v_measure_score: 0.6064264620602738\n",
      "model: paraphrase-multilingual-mpnet-base-v2, input: paragraph1, linkage: complete, metric: manhattan, homogeneity_score: 0.5406929910615098, completeness_score: 0.5609186316805345, v_measure_score: 0.5506201395198884\n",
      "model: paraphrase-multilingual-mpnet-base-v2, input: paragraph1, linkage: complete, metric: cosine, homogeneity_score: 0.5887062269561576, completeness_score: 0.5764149747705645, v_measure_score: 0.5824957686038219\n",
      "model: paraphrase-multilingual-mpnet-base-v2, input: paragraph1, linkage: average, metric: euclidean, homogeneity_score: 0.30709609208258615, completeness_score: 0.7551064718224767, v_measure_score: 0.436621515486528\n",
      "model: paraphrase-multilingual-mpnet-base-v2, input: paragraph1, linkage: average, metric: l1, homogeneity_score: 0.29871942452782696, completeness_score: 0.7339733024266214, v_measure_score: 0.42462211032757696\n",
      "model: paraphrase-multilingual-mpnet-base-v2, input: paragraph1, linkage: average, metric: l2, homogeneity_score: 0.30709609208258615, completeness_score: 0.7551064718224767, v_measure_score: 0.436621515486528\n",
      "model: paraphrase-multilingual-mpnet-base-v2, input: paragraph1, linkage: average, metric: manhattan, homogeneity_score: 0.29871942452782696, completeness_score: 0.7339733024266214, v_measure_score: 0.42462211032757696\n",
      "model: paraphrase-multilingual-mpnet-base-v2, input: paragraph1, linkage: average, metric: cosine, homogeneity_score: 0.42202195739886195, completeness_score: 0.6766339589178705, v_measure_score: 0.5198249671150692\n",
      "model: paraphrase-multilingual-mpnet-base-v2, input: paragraph1, linkage: single, metric: euclidean, homogeneity_score: 0.029977351995637582, completeness_score: 0.3989335819546148, v_measure_score: 0.05576436254022423\n",
      "model: paraphrase-multilingual-mpnet-base-v2, input: paragraph1, linkage: single, metric: l1, homogeneity_score: 0.02775643603470083, completeness_score: 0.3883740588467042, v_measure_score: 0.051810092528728945\n",
      "model: paraphrase-multilingual-mpnet-base-v2, input: paragraph1, linkage: single, metric: l2, homogeneity_score: 0.029977351995637582, completeness_score: 0.3989335819546148, v_measure_score: 0.05576436254022423\n",
      "model: paraphrase-multilingual-mpnet-base-v2, input: paragraph1, linkage: single, metric: manhattan, homogeneity_score: 0.02775643603470083, completeness_score: 0.3883740588467042, v_measure_score: 0.051810092528728945\n",
      "model: paraphrase-multilingual-mpnet-base-v2, input: paragraph1, linkage: single, metric: cosine, homogeneity_score: 0.02620203072915459, completeness_score: 0.34869223855354764, v_measure_score: 0.04874144791318802\n",
      "model: paraphrase-multilingual-mpnet-base-v2, input: title&paragraph0, linkage: ward, metric: euclidean, homogeneity_score: 0.8342472299399136, completeness_score: 0.8090056864297913, v_measure_score: 0.8214325940777433\n",
      "model: paraphrase-multilingual-mpnet-base-v2, input: title&paragraph0, linkage: complete, metric: euclidean, homogeneity_score: 0.7658789218546409, completeness_score: 0.7605742415888196, v_measure_score: 0.7632173643957759\n",
      "model: paraphrase-multilingual-mpnet-base-v2, input: title&paragraph0, linkage: complete, metric: l1, homogeneity_score: 0.7263695851804034, completeness_score: 0.7864449947917769, v_measure_score: 0.7552144620983392\n",
      "model: paraphrase-multilingual-mpnet-base-v2, input: title&paragraph0, linkage: complete, metric: l2, homogeneity_score: 0.7658789218546409, completeness_score: 0.7605742415888196, v_measure_score: 0.7632173643957759\n",
      "model: paraphrase-multilingual-mpnet-base-v2, input: title&paragraph0, linkage: complete, metric: manhattan, homogeneity_score: 0.7263695851804034, completeness_score: 0.7864449947917769, v_measure_score: 0.7552144620983392\n",
      "model: paraphrase-multilingual-mpnet-base-v2, input: title&paragraph0, linkage: complete, metric: cosine, homogeneity_score: 0.7377822000405315, completeness_score: 0.7163637203140404, v_measure_score: 0.7269152210991876\n",
      "model: paraphrase-multilingual-mpnet-base-v2, input: title&paragraph0, linkage: average, metric: euclidean, homogeneity_score: 0.4984653350730766, completeness_score: 0.8929387924627638, v_measure_score: 0.6397839787538432\n",
      "model: paraphrase-multilingual-mpnet-base-v2, input: title&paragraph0, linkage: average, metric: l1, homogeneity_score: 0.4899232057269801, completeness_score: 0.9091113274255291, v_measure_score: 0.6367172865867677\n",
      "model: paraphrase-multilingual-mpnet-base-v2, input: title&paragraph0, linkage: average, metric: l2, homogeneity_score: 0.4984653350730766, completeness_score: 0.8929387924627638, v_measure_score: 0.6397839787538432\n",
      "model: paraphrase-multilingual-mpnet-base-v2, input: title&paragraph0, linkage: average, metric: manhattan, homogeneity_score: 0.4899232057269801, completeness_score: 0.9091113274255291, v_measure_score: 0.6367172865867677\n",
      "model: paraphrase-multilingual-mpnet-base-v2, input: title&paragraph0, linkage: average, metric: cosine, homogeneity_score: 0.6713102558605853, completeness_score: 0.8719644656948982, v_measure_score: 0.7585929846333402\n",
      "model: paraphrase-multilingual-mpnet-base-v2, input: title&paragraph0, linkage: single, metric: euclidean, homogeneity_score: 0.03542608226565312, completeness_score: 0.4512719857352585, v_measure_score: 0.06569493302698692\n",
      "model: paraphrase-multilingual-mpnet-base-v2, input: title&paragraph0, linkage: single, metric: l1, homogeneity_score: 0.03080894326378777, completeness_score: 0.4310854004878746, v_measure_score: 0.057507894717233624\n",
      "model: paraphrase-multilingual-mpnet-base-v2, input: title&paragraph0, linkage: single, metric: l2, homogeneity_score: 0.03542608226565312, completeness_score: 0.4512719857352585, v_measure_score: 0.06569493302698692\n",
      "model: paraphrase-multilingual-mpnet-base-v2, input: title&paragraph0, linkage: single, metric: manhattan, homogeneity_score: 0.03080894326378777, completeness_score: 0.4310854004878746, v_measure_score: 0.057507894717233624\n",
      "model: paraphrase-multilingual-mpnet-base-v2, input: title&paragraph0, linkage: single, metric: cosine, homogeneity_score: 0.09281174572944191, completeness_score: 0.7076629735817042, v_measure_score: 0.16410121239738035\n",
      "model: paraphrase-multilingual-mpnet-base-v2, input: paragraph0&paragraph1, linkage: ward, metric: euclidean, homogeneity_score: 0.8781042878897222, completeness_score: 0.8596108382974971, v_measure_score: 0.8687591558021422\n",
      "model: paraphrase-multilingual-mpnet-base-v2, input: paragraph0&paragraph1, linkage: complete, metric: euclidean, homogeneity_score: 0.6979634822998688, completeness_score: 0.7939261395252343, v_measure_score: 0.7428585130232723\n",
      "model: paraphrase-multilingual-mpnet-base-v2, input: paragraph0&paragraph1, linkage: complete, metric: l1, homogeneity_score: 0.715833677862642, completeness_score: 0.7680448954056358, v_measure_score: 0.7410207440773454\n",
      "model: paraphrase-multilingual-mpnet-base-v2, input: paragraph0&paragraph1, linkage: complete, metric: l2, homogeneity_score: 0.6979634822998688, completeness_score: 0.7939261395252343, v_measure_score: 0.7428585130232723\n",
      "model: paraphrase-multilingual-mpnet-base-v2, input: paragraph0&paragraph1, linkage: complete, metric: manhattan, homogeneity_score: 0.715833677862642, completeness_score: 0.7680448954056358, v_measure_score: 0.7410207440773454\n",
      "model: paraphrase-multilingual-mpnet-base-v2, input: paragraph0&paragraph1, linkage: complete, metric: cosine, homogeneity_score: 0.7965701207962942, completeness_score: 0.7982710949084728, v_measure_score: 0.7974197007674331\n",
      "model: paraphrase-multilingual-mpnet-base-v2, input: paragraph0&paragraph1, linkage: average, metric: euclidean, homogeneity_score: 0.5395383028704311, completeness_score: 0.9188337545402963, v_measure_score: 0.679862181979696\n",
      "model: paraphrase-multilingual-mpnet-base-v2, input: paragraph0&paragraph1, linkage: average, metric: l1, homogeneity_score: 0.508549762540886, completeness_score: 0.9090361047966806, v_measure_score: 0.652221647925557\n",
      "model: paraphrase-multilingual-mpnet-base-v2, input: paragraph0&paragraph1, linkage: average, metric: l2, homogeneity_score: 0.5395383028704311, completeness_score: 0.9188337545402963, v_measure_score: 0.679862181979696\n",
      "model: paraphrase-multilingual-mpnet-base-v2, input: paragraph0&paragraph1, linkage: average, metric: manhattan, homogeneity_score: 0.508549762540886, completeness_score: 0.9090361047966806, v_measure_score: 0.652221647925557\n",
      "model: paraphrase-multilingual-mpnet-base-v2, input: paragraph0&paragraph1, linkage: average, metric: cosine, homogeneity_score: 0.6645568358792276, completeness_score: 0.8939807204589535, v_measure_score: 0.7623826535448887\n",
      "model: paraphrase-multilingual-mpnet-base-v2, input: paragraph0&paragraph1, linkage: single, metric: euclidean, homogeneity_score: 0.0326203783080684, completeness_score: 0.4359367227662215, v_measure_score: 0.060698774097797864\n",
      "model: paraphrase-multilingual-mpnet-base-v2, input: paragraph0&paragraph1, linkage: single, metric: l1, homogeneity_score: 0.032620378308068396, completeness_score: 0.4359367227662214, v_measure_score: 0.06069877409779785\n",
      "model: paraphrase-multilingual-mpnet-base-v2, input: paragraph0&paragraph1, linkage: single, metric: l2, homogeneity_score: 0.0326203783080684, completeness_score: 0.4359367227662215, v_measure_score: 0.060698774097797864\n",
      "model: paraphrase-multilingual-mpnet-base-v2, input: paragraph0&paragraph1, linkage: single, metric: manhattan, homogeneity_score: 0.032620378308068396, completeness_score: 0.4359367227662214, v_measure_score: 0.06069877409779785\n",
      "model: paraphrase-multilingual-mpnet-base-v2, input: paragraph0&paragraph1, linkage: single, metric: cosine, homogeneity_score: 0.09100257825248668, completeness_score: 0.6938685898387064, v_measure_score: 0.16090240847375062\n",
      "model: paraphrase-multilingual-mpnet-base-v2, input: title&paragraph0&paragraph1, linkage: ward, metric: euclidean, homogeneity_score: 0.8427995569319402, completeness_score: 0.8369092922437267, v_measure_score: 0.8398440968402258\n",
      "model: paraphrase-multilingual-mpnet-base-v2, input: title&paragraph0&paragraph1, linkage: complete, metric: euclidean, homogeneity_score: 0.7027645073393184, completeness_score: 0.762313542276741, v_measure_score: 0.7313288204906189\n",
      "model: paraphrase-multilingual-mpnet-base-v2, input: title&paragraph0&paragraph1, linkage: complete, metric: l1, homogeneity_score: 0.8395014740070902, completeness_score: 0.8422305033291607, v_measure_score: 0.8408637744029687\n",
      "model: paraphrase-multilingual-mpnet-base-v2, input: title&paragraph0&paragraph1, linkage: complete, metric: l2, homogeneity_score: 0.7027645073393184, completeness_score: 0.762313542276741, v_measure_score: 0.7313288204906189\n",
      "model: paraphrase-multilingual-mpnet-base-v2, input: title&paragraph0&paragraph1, linkage: complete, metric: manhattan, homogeneity_score: 0.8395014740070902, completeness_score: 0.8422305033291607, v_measure_score: 0.8408637744029687\n",
      "model: paraphrase-multilingual-mpnet-base-v2, input: title&paragraph0&paragraph1, linkage: complete, metric: cosine, homogeneity_score: 0.8186278972736045, completeness_score: 0.7951563715117871, v_measure_score: 0.8067214447496489\n",
      "model: paraphrase-multilingual-mpnet-base-v2, input: title&paragraph0&paragraph1, linkage: average, metric: euclidean, homogeneity_score: 0.44998694461116423, completeness_score: 0.9098668328251378, v_measure_score: 0.6021650311225452\n",
      "model: paraphrase-multilingual-mpnet-base-v2, input: title&paragraph0&paragraph1, linkage: average, metric: l1, homogeneity_score: 0.44849270305546296, completeness_score: 0.8896690729485432, v_measure_score: 0.5963555296625741\n",
      "model: paraphrase-multilingual-mpnet-base-v2, input: title&paragraph0&paragraph1, linkage: average, metric: l2, homogeneity_score: 0.44998694461116423, completeness_score: 0.9098668328251378, v_measure_score: 0.6021650311225452\n",
      "model: paraphrase-multilingual-mpnet-base-v2, input: title&paragraph0&paragraph1, linkage: average, metric: manhattan, homogeneity_score: 0.44849270305546296, completeness_score: 0.8896690729485432, v_measure_score: 0.5963555296625741\n",
      "model: paraphrase-multilingual-mpnet-base-v2, input: title&paragraph0&paragraph1, linkage: average, metric: cosine, homogeneity_score: 0.6796732297460025, completeness_score: 0.8840196492197269, v_measure_score: 0.7684942461866495\n",
      "model: paraphrase-multilingual-mpnet-base-v2, input: title&paragraph0&paragraph1, linkage: single, metric: euclidean, homogeneity_score: 0.06925452889958246, completeness_score: 0.6366083053722873, v_measure_score: 0.12491947767046867\n",
      "model: paraphrase-multilingual-mpnet-base-v2, input: title&paragraph0&paragraph1, linkage: single, metric: l1, homogeneity_score: 0.03308096421795293, completeness_score: 0.44209196444401944, v_measure_score: 0.06155581505031786\n",
      "model: paraphrase-multilingual-mpnet-base-v2, input: title&paragraph0&paragraph1, linkage: single, metric: l2, homogeneity_score: 0.06925452889958246, completeness_score: 0.6366083053722873, v_measure_score: 0.12491947767046867\n",
      "model: paraphrase-multilingual-mpnet-base-v2, input: title&paragraph0&paragraph1, linkage: single, metric: manhattan, homogeneity_score: 0.03308096421795293, completeness_score: 0.44209196444401944, v_measure_score: 0.06155581505031786\n",
      "model: paraphrase-multilingual-mpnet-base-v2, input: title&paragraph0&paragraph1, linkage: single, metric: cosine, homogeneity_score: 0.09296901821866359, completeness_score: 0.7088621312584668, v_measure_score: 0.1643792871815059\n",
      "model: distiluse-base-multilingual-cased-v2, input: title, linkage: ward, metric: euclidean, homogeneity_score: 0.6316765562350606, completeness_score: 0.6167426017531482, v_measure_score: 0.6241202568321362\n",
      "model: distiluse-base-multilingual-cased-v2, input: title, linkage: complete, metric: euclidean, homogeneity_score: 0.4662404999450705, completeness_score: 0.5511790660069452, v_measure_score: 0.5051642643688947\n",
      "model: distiluse-base-multilingual-cased-v2, input: title, linkage: complete, metric: l1, homogeneity_score: 0.4224383031379161, completeness_score: 0.49438164799873247, v_measure_score: 0.4555872594704986\n",
      "model: distiluse-base-multilingual-cased-v2, input: title, linkage: complete, metric: l2, homogeneity_score: 0.4662404999450705, completeness_score: 0.5511790660069452, v_measure_score: 0.5051642643688947\n",
      "model: distiluse-base-multilingual-cased-v2, input: title, linkage: complete, metric: manhattan, homogeneity_score: 0.4224383031379161, completeness_score: 0.49438164799873247, v_measure_score: 0.4555872594704986\n",
      "model: distiluse-base-multilingual-cased-v2, input: title, linkage: complete, metric: cosine, homogeneity_score: 0.5224536076056874, completeness_score: 0.5149472701248298, v_measure_score: 0.5186732820044991\n",
      "model: distiluse-base-multilingual-cased-v2, input: title, linkage: average, metric: euclidean, homogeneity_score: 0.07201481119321221, completeness_score: 0.5114090959167411, v_measure_score: 0.12625135527054976\n",
      "model: distiluse-base-multilingual-cased-v2, input: title, linkage: average, metric: l1, homogeneity_score: 0.06438852795903736, completeness_score: 0.48731747760512506, v_measure_score: 0.11374773779966038\n",
      "model: distiluse-base-multilingual-cased-v2, input: title, linkage: average, metric: l2, homogeneity_score: 0.07201481119321221, completeness_score: 0.5114090959167411, v_measure_score: 0.12625135527054976\n",
      "model: distiluse-base-multilingual-cased-v2, input: title, linkage: average, metric: manhattan, homogeneity_score: 0.06438852795903736, completeness_score: 0.48731747760512506, v_measure_score: 0.11374773779966038\n",
      "model: distiluse-base-multilingual-cased-v2, input: title, linkage: average, metric: cosine, homogeneity_score: 0.42384247723045865, completeness_score: 0.6919495017425116, v_measure_score: 0.5256850675819964\n",
      "model: distiluse-base-multilingual-cased-v2, input: title, linkage: single, metric: euclidean, homogeneity_score: 0.032256999430670646, completeness_score: 0.47582328464654633, v_measure_score: 0.06041813431048558\n",
      "model: distiluse-base-multilingual-cased-v2, input: title, linkage: single, metric: l1, homogeneity_score: 0.03257841120500464, completeness_score: 0.48056443257992354, v_measure_score: 0.06102014627977677\n",
      "model: distiluse-base-multilingual-cased-v2, input: title, linkage: single, metric: l2, homogeneity_score: 0.032256999430670646, completeness_score: 0.47582328464654633, v_measure_score: 0.06041813431048558\n",
      "model: distiluse-base-multilingual-cased-v2, input: title, linkage: single, metric: manhattan, homogeneity_score: 0.03257841120500464, completeness_score: 0.48056443257992354, v_measure_score: 0.06102014627977677\n",
      "model: distiluse-base-multilingual-cased-v2, input: title, linkage: single, metric: cosine, homogeneity_score: 0.03761072703050386, completeness_score: 0.4605999784449959, v_measure_score: 0.06954286557538701\n",
      "model: distiluse-base-multilingual-cased-v2, input: paragraph0, linkage: ward, metric: euclidean, homogeneity_score: 0.8343109535182379, completeness_score: 0.7738192916271747, v_measure_score: 0.8029273909836795\n",
      "model: distiluse-base-multilingual-cased-v2, input: paragraph0, linkage: complete, metric: euclidean, homogeneity_score: 0.6638498161797276, completeness_score: 0.7038342101935959, v_measure_score: 0.6832575390925628\n",
      "model: distiluse-base-multilingual-cased-v2, input: paragraph0, linkage: complete, metric: l1, homogeneity_score: 0.6429574165320431, completeness_score: 0.707700311054804, v_measure_score: 0.6737771596475203\n",
      "model: distiluse-base-multilingual-cased-v2, input: paragraph0, linkage: complete, metric: l2, homogeneity_score: 0.6638498161797276, completeness_score: 0.7038342101935959, v_measure_score: 0.6832575390925628\n",
      "model: distiluse-base-multilingual-cased-v2, input: paragraph0, linkage: complete, metric: manhattan, homogeneity_score: 0.6429574165320431, completeness_score: 0.707700311054804, v_measure_score: 0.6737771596475203\n",
      "model: distiluse-base-multilingual-cased-v2, input: paragraph0, linkage: complete, metric: cosine, homogeneity_score: 0.6904793219655279, completeness_score: 0.7085338669659822, v_measure_score: 0.6993900957087196\n",
      "model: distiluse-base-multilingual-cased-v2, input: paragraph0, linkage: average, metric: euclidean, homogeneity_score: 0.17059248537060837, completeness_score: 0.6929972000809534, v_measure_score: 0.2737876950321994\n",
      "model: distiluse-base-multilingual-cased-v2, input: paragraph0, linkage: average, metric: l1, homogeneity_score: 0.31725825946540476, completeness_score: 0.7802673137212005, v_measure_score: 0.451098827975731\n",
      "model: distiluse-base-multilingual-cased-v2, input: paragraph0, linkage: average, metric: l2, homogeneity_score: 0.17059248537060837, completeness_score: 0.6929972000809534, v_measure_score: 0.2737876950321994\n",
      "model: distiluse-base-multilingual-cased-v2, input: paragraph0, linkage: average, metric: manhattan, homogeneity_score: 0.31725825946540476, completeness_score: 0.7802673137212005, v_measure_score: 0.451098827975731\n",
      "model: distiluse-base-multilingual-cased-v2, input: paragraph0, linkage: average, metric: cosine, homogeneity_score: 0.5936426278120202, completeness_score: 0.8444737952930119, v_measure_score: 0.6971836701144749\n",
      "model: distiluse-base-multilingual-cased-v2, input: paragraph0, linkage: single, metric: euclidean, homogeneity_score: 0.029903686903555098, completeness_score: 0.4411095506906443, v_measure_score: 0.056010323452460604\n",
      "model: distiluse-base-multilingual-cased-v2, input: paragraph0, linkage: single, metric: l1, homogeneity_score: 0.029517711235638025, completeness_score: 0.4354160201904911, v_measure_score: 0.05528738176053684\n",
      "model: distiluse-base-multilingual-cased-v2, input: paragraph0, linkage: single, metric: l2, homogeneity_score: 0.029903686903555098, completeness_score: 0.4411095506906443, v_measure_score: 0.056010323452460604\n",
      "model: distiluse-base-multilingual-cased-v2, input: paragraph0, linkage: single, metric: manhattan, homogeneity_score: 0.029517711235638025, completeness_score: 0.4354160201904911, v_measure_score: 0.05528738176053684\n",
      "model: distiluse-base-multilingual-cased-v2, input: paragraph0, linkage: single, metric: cosine, homogeneity_score: 0.026151108346368062, completeness_score: 0.38575523111691534, v_measure_score: 0.048981653728667245\n",
      "model: distiluse-base-multilingual-cased-v2, input: paragraph1, linkage: ward, metric: euclidean, homogeneity_score: 0.5836680430566037, completeness_score: 0.5728726140454214, v_measure_score: 0.5782199449839414\n",
      "model: distiluse-base-multilingual-cased-v2, input: paragraph1, linkage: complete, metric: euclidean, homogeneity_score: 0.5280343885860157, completeness_score: 0.5543609358969853, v_measure_score: 0.5408774986757313\n",
      "model: distiluse-base-multilingual-cased-v2, input: paragraph1, linkage: complete, metric: l1, homogeneity_score: 0.495982104905531, completeness_score: 0.5270024849040542, v_measure_score: 0.511021973071581\n",
      "model: distiluse-base-multilingual-cased-v2, input: paragraph1, linkage: complete, metric: l2, homogeneity_score: 0.5280343885860157, completeness_score: 0.5543609358969853, v_measure_score: 0.5408774986757313\n",
      "model: distiluse-base-multilingual-cased-v2, input: paragraph1, linkage: complete, metric: manhattan, homogeneity_score: 0.495982104905531, completeness_score: 0.5270024849040542, v_measure_score: 0.511021973071581\n",
      "model: distiluse-base-multilingual-cased-v2, input: paragraph1, linkage: complete, metric: cosine, homogeneity_score: 0.5218799830986022, completeness_score: 0.5088791660785782, v_measure_score: 0.5152975858702155\n",
      "model: distiluse-base-multilingual-cased-v2, input: paragraph1, linkage: average, metric: euclidean, homogeneity_score: 0.08154621329916967, completeness_score: 0.5168182792148359, v_measure_score: 0.14086589081077996\n",
      "model: distiluse-base-multilingual-cased-v2, input: paragraph1, linkage: average, metric: l1, homogeneity_score: 0.11206040120942434, completeness_score: 0.6187211063280667, v_measure_score: 0.18975339331039387\n",
      "model: distiluse-base-multilingual-cased-v2, input: paragraph1, linkage: average, metric: l2, homogeneity_score: 0.08154621329916967, completeness_score: 0.5168182792148359, v_measure_score: 0.14086589081077996\n",
      "model: distiluse-base-multilingual-cased-v2, input: paragraph1, linkage: average, metric: manhattan, homogeneity_score: 0.11206040120942434, completeness_score: 0.6187211063280667, v_measure_score: 0.18975339331039387\n",
      "model: distiluse-base-multilingual-cased-v2, input: paragraph1, linkage: average, metric: cosine, homogeneity_score: 0.41538480146842693, completeness_score: 0.6583571180159723, v_measure_score: 0.5093803935562259\n",
      "model: distiluse-base-multilingual-cased-v2, input: paragraph1, linkage: single, metric: euclidean, homogeneity_score: 0.028366322900051734, completeness_score: 0.4184318806421153, v_measure_score: 0.053130803767208815\n",
      "model: distiluse-base-multilingual-cased-v2, input: paragraph1, linkage: single, metric: l1, homogeneity_score: 0.029012756726322732, completeness_score: 0.4279674317458066, v_measure_score: 0.05434158984241166\n",
      "model: distiluse-base-multilingual-cased-v2, input: paragraph1, linkage: single, metric: l2, homogeneity_score: 0.028366322900051734, completeness_score: 0.4184318806421153, v_measure_score: 0.053130803767208815\n",
      "model: distiluse-base-multilingual-cased-v2, input: paragraph1, linkage: single, metric: manhattan, homogeneity_score: 0.029012756726322732, completeness_score: 0.4279674317458066, v_measure_score: 0.05434158984241166\n",
      "model: distiluse-base-multilingual-cased-v2, input: paragraph1, linkage: single, metric: cosine, homogeneity_score: 0.043717728029629685, completeness_score: 0.36160577418867446, v_measure_score: 0.0780047680601051\n",
      "model: distiluse-base-multilingual-cased-v2, input: title&paragraph0, linkage: ward, metric: euclidean, homogeneity_score: 0.8424065296103425, completeness_score: 0.797297714197448, v_measure_score: 0.8192316425596358\n",
      "model: distiluse-base-multilingual-cased-v2, input: title&paragraph0, linkage: complete, metric: euclidean, homogeneity_score: 0.6634649984419354, completeness_score: 0.6966717391683678, v_measure_score: 0.679663009697063\n",
      "model: distiluse-base-multilingual-cased-v2, input: title&paragraph0, linkage: complete, metric: l1, homogeneity_score: 0.6807701996322753, completeness_score: 0.7144392353800846, v_measure_score: 0.6971984688313431\n",
      "model: distiluse-base-multilingual-cased-v2, input: title&paragraph0, linkage: complete, metric: l2, homogeneity_score: 0.6634649984419354, completeness_score: 0.6966717391683678, v_measure_score: 0.679663009697063\n",
      "model: distiluse-base-multilingual-cased-v2, input: title&paragraph0, linkage: complete, metric: manhattan, homogeneity_score: 0.6807701996322753, completeness_score: 0.7144392353800846, v_measure_score: 0.6971984688313431\n",
      "model: distiluse-base-multilingual-cased-v2, input: title&paragraph0, linkage: complete, metric: cosine, homogeneity_score: 0.7351965360186111, completeness_score: 0.7362210494352865, v_measure_score: 0.7357084360546653\n",
      "model: distiluse-base-multilingual-cased-v2, input: title&paragraph0, linkage: average, metric: euclidean, homogeneity_score: 0.15784071642552835, completeness_score: 0.7857346015216469, v_measure_score: 0.26287443104027214\n",
      "model: distiluse-base-multilingual-cased-v2, input: title&paragraph0, linkage: average, metric: l1, homogeneity_score: 0.28247158825854257, completeness_score: 0.8460278411821905, v_measure_score: 0.42353380387283596\n",
      "model: distiluse-base-multilingual-cased-v2, input: title&paragraph0, linkage: average, metric: l2, homogeneity_score: 0.15784071642552835, completeness_score: 0.7857346015216469, v_measure_score: 0.26287443104027214\n",
      "model: distiluse-base-multilingual-cased-v2, input: title&paragraph0, linkage: average, metric: manhattan, homogeneity_score: 0.28247158825854257, completeness_score: 0.8460278411821905, v_measure_score: 0.42353380387283596\n",
      "model: distiluse-base-multilingual-cased-v2, input: title&paragraph0, linkage: average, metric: cosine, homogeneity_score: 0.5853469802127887, completeness_score: 0.8662297215301987, v_measure_score: 0.698612689304575\n",
      "model: distiluse-base-multilingual-cased-v2, input: title&paragraph0, linkage: single, metric: euclidean, homogeneity_score: 0.03267253019294097, completeness_score: 0.4571611120375867, v_measure_score: 0.060986461313969884\n",
      "model: distiluse-base-multilingual-cased-v2, input: title&paragraph0, linkage: single, metric: l1, homogeneity_score: 0.034341661752802746, completeness_score: 0.4805159619845401, v_measure_score: 0.06410205801561222\n",
      "model: distiluse-base-multilingual-cased-v2, input: title&paragraph0, linkage: single, metric: l2, homogeneity_score: 0.03267253019294097, completeness_score: 0.4571611120375867, v_measure_score: 0.060986461313969884\n",
      "model: distiluse-base-multilingual-cased-v2, input: title&paragraph0, linkage: single, metric: manhattan, homogeneity_score: 0.034341661752802746, completeness_score: 0.4805159619845401, v_measure_score: 0.06410205801561222\n",
      "model: distiluse-base-multilingual-cased-v2, input: title&paragraph0, linkage: single, metric: cosine, homogeneity_score: 0.029768847809535478, completeness_score: 0.41653215983943687, v_measure_score: 0.05556645520186673\n",
      "model: distiluse-base-multilingual-cased-v2, input: paragraph0&paragraph1, linkage: ward, metric: euclidean, homogeneity_score: 0.8846287473192457, completeness_score: 0.8368672126772616, v_measure_score: 0.8600854271243678\n",
      "model: distiluse-base-multilingual-cased-v2, input: paragraph0&paragraph1, linkage: complete, metric: euclidean, homogeneity_score: 0.7806999325731608, completeness_score: 0.8247561580488431, v_measure_score: 0.8021235594535244\n",
      "model: distiluse-base-multilingual-cased-v2, input: paragraph0&paragraph1, linkage: complete, metric: l1, homogeneity_score: 0.7693641319813552, completeness_score: 0.7880136634260579, v_measure_score: 0.778577234039266\n",
      "model: distiluse-base-multilingual-cased-v2, input: paragraph0&paragraph1, linkage: complete, metric: l2, homogeneity_score: 0.7806999325731608, completeness_score: 0.8247561580488431, v_measure_score: 0.8021235594535244\n",
      "model: distiluse-base-multilingual-cased-v2, input: paragraph0&paragraph1, linkage: complete, metric: manhattan, homogeneity_score: 0.7693641319813552, completeness_score: 0.7880136634260579, v_measure_score: 0.778577234039266\n",
      "model: distiluse-base-multilingual-cased-v2, input: paragraph0&paragraph1, linkage: complete, metric: cosine, homogeneity_score: 0.6869628245034874, completeness_score: 0.726787531556179, v_measure_score: 0.7063142560519767\n",
      "model: distiluse-base-multilingual-cased-v2, input: paragraph0&paragraph1, linkage: average, metric: euclidean, homogeneity_score: 0.32077576251758605, completeness_score: 0.8481798301763853, v_measure_score: 0.46550191209546676\n",
      "model: distiluse-base-multilingual-cased-v2, input: paragraph0&paragraph1, linkage: average, metric: l1, homogeneity_score: 0.34673314460521604, completeness_score: 0.8443254565503926, v_measure_score: 0.49158894505427375\n",
      "model: distiluse-base-multilingual-cased-v2, input: paragraph0&paragraph1, linkage: average, metric: l2, homogeneity_score: 0.32077576251758605, completeness_score: 0.8481798301763853, v_measure_score: 0.46550191209546676\n",
      "model: distiluse-base-multilingual-cased-v2, input: paragraph0&paragraph1, linkage: average, metric: manhattan, homogeneity_score: 0.34673314460521604, completeness_score: 0.8443254565503926, v_measure_score: 0.49158894505427375\n",
      "model: distiluse-base-multilingual-cased-v2, input: paragraph0&paragraph1, linkage: average, metric: cosine, homogeneity_score: 0.5337905510510533, completeness_score: 0.8341892918455316, v_measure_score: 0.6510071973462203\n",
      "model: distiluse-base-multilingual-cased-v2, input: paragraph0&paragraph1, linkage: single, metric: euclidean, homogeneity_score: 0.03723652501501988, completeness_score: 0.47433414904307797, v_measure_score: 0.06905225925563843\n",
      "model: distiluse-base-multilingual-cased-v2, input: paragraph0&paragraph1, linkage: single, metric: l1, homogeneity_score: 0.0355374709943852, completeness_score: 0.47292671478993265, v_measure_score: 0.06610738722292707\n",
      "model: distiluse-base-multilingual-cased-v2, input: paragraph0&paragraph1, linkage: single, metric: l2, homogeneity_score: 0.03723652501501988, completeness_score: 0.47433414904307797, v_measure_score: 0.06905225925563843\n",
      "model: distiluse-base-multilingual-cased-v2, input: paragraph0&paragraph1, linkage: single, metric: manhattan, homogeneity_score: 0.0355374709943852, completeness_score: 0.47292671478993265, v_measure_score: 0.06610738722292707\n",
      "model: distiluse-base-multilingual-cased-v2, input: paragraph0&paragraph1, linkage: single, metric: cosine, homogeneity_score: 0.03389068900552088, completeness_score: 0.414003800584489, v_measure_score: 0.06265258617294475\n",
      "model: distiluse-base-multilingual-cased-v2, input: title&paragraph0&paragraph1, linkage: ward, metric: euclidean, homogeneity_score: 0.8703284454094273, completeness_score: 0.8381995662950563, v_measure_score: 0.8539619139737141\n",
      "model: distiluse-base-multilingual-cased-v2, input: title&paragraph0&paragraph1, linkage: complete, metric: euclidean, homogeneity_score: 0.6650799107371712, completeness_score: 0.7644035945437095, v_measure_score: 0.7112911377405633\n",
      "model: distiluse-base-multilingual-cased-v2, input: title&paragraph0&paragraph1, linkage: complete, metric: l1, homogeneity_score: 0.7055861192339005, completeness_score: 0.7991323984559182, v_measure_score: 0.7494514371316102\n",
      "model: distiluse-base-multilingual-cased-v2, input: title&paragraph0&paragraph1, linkage: complete, metric: l2, homogeneity_score: 0.6650799107371712, completeness_score: 0.7644035945437095, v_measure_score: 0.7112911377405633\n",
      "model: distiluse-base-multilingual-cased-v2, input: title&paragraph0&paragraph1, linkage: complete, metric: manhattan, homogeneity_score: 0.7055861192339005, completeness_score: 0.7991323984559182, v_measure_score: 0.7494514371316102\n",
      "model: distiluse-base-multilingual-cased-v2, input: title&paragraph0&paragraph1, linkage: complete, metric: cosine, homogeneity_score: 0.7432191703317008, completeness_score: 0.7667283192993638, v_measure_score: 0.7547907318005173\n",
      "model: distiluse-base-multilingual-cased-v2, input: title&paragraph0&paragraph1, linkage: average, metric: euclidean, homogeneity_score: 0.21552542495662214, completeness_score: 0.798972662408678, v_measure_score: 0.3394760911606308\n",
      "model: distiluse-base-multilingual-cased-v2, input: title&paragraph0&paragraph1, linkage: average, metric: l1, homogeneity_score: 0.20690543222438726, completeness_score: 0.7906790568246717, v_measure_score: 0.32798383254540414\n",
      "model: distiluse-base-multilingual-cased-v2, input: title&paragraph0&paragraph1, linkage: average, metric: l2, homogeneity_score: 0.21552542495662214, completeness_score: 0.798972662408678, v_measure_score: 0.3394760911606308\n",
      "model: distiluse-base-multilingual-cased-v2, input: title&paragraph0&paragraph1, linkage: average, metric: manhattan, homogeneity_score: 0.20690543222438726, completeness_score: 0.7906790568246717, v_measure_score: 0.32798383254540414\n",
      "model: distiluse-base-multilingual-cased-v2, input: title&paragraph0&paragraph1, linkage: average, metric: cosine, homogeneity_score: 0.5099553222103268, completeness_score: 0.8257326107767272, v_measure_score: 0.6305166486703622\n",
      "model: distiluse-base-multilingual-cased-v2, input: title&paragraph0&paragraph1, linkage: single, metric: euclidean, homogeneity_score: 0.03409362208509516, completeness_score: 0.5029153217085428, v_measure_score: 0.0638581726330579\n",
      "model: distiluse-base-multilingual-cased-v2, input: title&paragraph0&paragraph1, linkage: single, metric: l1, homogeneity_score: 0.03377729972864809, completeness_score: 0.49824924782354696, v_measure_score: 0.0632656932656479\n",
      "model: distiluse-base-multilingual-cased-v2, input: title&paragraph0&paragraph1, linkage: single, metric: l2, homogeneity_score: 0.03409362208509516, completeness_score: 0.5029153217085428, v_measure_score: 0.0638581726330579\n",
      "model: distiluse-base-multilingual-cased-v2, input: title&paragraph0&paragraph1, linkage: single, metric: manhattan, homogeneity_score: 0.03377729972864809, completeness_score: 0.49824924782354696, v_measure_score: 0.0632656932656479\n",
      "model: distiluse-base-multilingual-cased-v2, input: title&paragraph0&paragraph1, linkage: single, metric: cosine, homogeneity_score: 0.02702982017468763, completeness_score: 0.3987171170885919, v_measure_score: 0.05062750207788303\n",
      "model: distiluse-base-multilingual-cased-v1, input: title, linkage: ward, metric: euclidean, homogeneity_score: 0.7892501139997029, completeness_score: 0.7338965245434571, v_measure_score: 0.7605675002032921\n",
      "model: distiluse-base-multilingual-cased-v1, input: title, linkage: complete, metric: euclidean, homogeneity_score: 0.6950058931964944, completeness_score: 0.664770594433028, v_measure_score: 0.6795520954478669\n",
      "model: distiluse-base-multilingual-cased-v1, input: title, linkage: complete, metric: l1, homogeneity_score: 0.677794950802014, completeness_score: 0.6480561908542704, v_measure_score: 0.6625920515455307\n",
      "model: distiluse-base-multilingual-cased-v1, input: title, linkage: complete, metric: l2, homogeneity_score: 0.6950058931964944, completeness_score: 0.664770594433028, v_measure_score: 0.6795520954478669\n",
      "model: distiluse-base-multilingual-cased-v1, input: title, linkage: complete, metric: manhattan, homogeneity_score: 0.677794950802014, completeness_score: 0.6480561908542704, v_measure_score: 0.6625920515455307\n",
      "model: distiluse-base-multilingual-cased-v1, input: title, linkage: complete, metric: cosine, homogeneity_score: 0.6442346132071561, completeness_score: 0.6523883671303025, v_measure_score: 0.6482858529156313\n",
      "model: distiluse-base-multilingual-cased-v1, input: title, linkage: average, metric: euclidean, homogeneity_score: 0.620881818111233, completeness_score: 0.8601020162018459, v_measure_score: 0.7211715498950511\n",
      "model: distiluse-base-multilingual-cased-v1, input: title, linkage: average, metric: l1, homogeneity_score: 0.6159681160776141, completeness_score: 0.8698223121081436, v_measure_score: 0.7212091298309841\n",
      "model: distiluse-base-multilingual-cased-v1, input: title, linkage: average, metric: l2, homogeneity_score: 0.620881818111233, completeness_score: 0.8601020162018459, v_measure_score: 0.7211715498950511\n",
      "model: distiluse-base-multilingual-cased-v1, input: title, linkage: average, metric: manhattan, homogeneity_score: 0.6159681160776141, completeness_score: 0.8698223121081436, v_measure_score: 0.7212091298309841\n",
      "model: distiluse-base-multilingual-cased-v1, input: title, linkage: average, metric: cosine, homogeneity_score: 0.5719618431488996, completeness_score: 0.8675199956606048, v_measure_score: 0.6893985353742677\n",
      "model: distiluse-base-multilingual-cased-v1, input: title, linkage: single, metric: euclidean, homogeneity_score: 0.025507515019895753, completeness_score: 0.3762615802509432, v_measure_score: 0.04777618797777773\n",
      "model: distiluse-base-multilingual-cased-v1, input: title, linkage: single, metric: l1, homogeneity_score: 0.026160512352526463, completeness_score: 0.3858939496951497, v_measure_score: 0.048999267657958964\n",
      "model: distiluse-base-multilingual-cased-v1, input: title, linkage: single, metric: l2, homogeneity_score: 0.025507515019895753, completeness_score: 0.3762615802509432, v_measure_score: 0.04777618797777773\n",
      "model: distiluse-base-multilingual-cased-v1, input: title, linkage: single, metric: manhattan, homogeneity_score: 0.026160512352526463, completeness_score: 0.3858939496951497, v_measure_score: 0.048999267657958964\n",
      "model: distiluse-base-multilingual-cased-v1, input: title, linkage: single, metric: cosine, homogeneity_score: 0.025043411775873957, completeness_score: 0.369415589182859, v_measure_score: 0.04690691146024214\n",
      "model: distiluse-base-multilingual-cased-v1, input: paragraph0, linkage: ward, metric: euclidean, homogeneity_score: 0.8895060376866682, completeness_score: 0.839571633216868, v_measure_score: 0.863817802269826\n",
      "model: distiluse-base-multilingual-cased-v1, input: paragraph0, linkage: complete, metric: euclidean, homogeneity_score: 0.7454940430295417, completeness_score: 0.752838941002235, v_measure_score: 0.7491484895001578\n",
      "model: distiluse-base-multilingual-cased-v1, input: paragraph0, linkage: complete, metric: l1, homogeneity_score: 0.7893231039317858, completeness_score: 0.7834100834977616, v_measure_score: 0.786355478094231\n",
      "model: distiluse-base-multilingual-cased-v1, input: paragraph0, linkage: complete, metric: l2, homogeneity_score: 0.7454940430295417, completeness_score: 0.752838941002235, v_measure_score: 0.7491484895001578\n",
      "model: distiluse-base-multilingual-cased-v1, input: paragraph0, linkage: complete, metric: manhattan, homogeneity_score: 0.7893231039317858, completeness_score: 0.7834100834977616, v_measure_score: 0.786355478094231\n",
      "model: distiluse-base-multilingual-cased-v1, input: paragraph0, linkage: complete, metric: cosine, homogeneity_score: 0.8174040225431305, completeness_score: 0.8396725138320785, v_measure_score: 0.8283886415127344\n",
      "model: distiluse-base-multilingual-cased-v1, input: paragraph0, linkage: average, metric: euclidean, homogeneity_score: 0.518148873385442, completeness_score: 0.8537348684656914, v_measure_score: 0.644896862278536\n",
      "model: distiluse-base-multilingual-cased-v1, input: paragraph0, linkage: average, metric: l1, homogeneity_score: 0.6381532151019994, completeness_score: 0.8465122419709398, v_measure_score: 0.7277121000740271\n",
      "model: distiluse-base-multilingual-cased-v1, input: paragraph0, linkage: average, metric: l2, homogeneity_score: 0.518148873385442, completeness_score: 0.8537348684656914, v_measure_score: 0.644896862278536\n",
      "model: distiluse-base-multilingual-cased-v1, input: paragraph0, linkage: average, metric: manhattan, homogeneity_score: 0.6381532151019994, completeness_score: 0.8465122419709398, v_measure_score: 0.7277121000740271\n",
      "model: distiluse-base-multilingual-cased-v1, input: paragraph0, linkage: average, metric: cosine, homogeneity_score: 0.5702153935059208, completeness_score: 0.8832074655746699, v_measure_score: 0.6930102817408657\n",
      "model: distiluse-base-multilingual-cased-v1, input: paragraph0, linkage: single, metric: euclidean, homogeneity_score: 0.02319122940073279, completeness_score: 0.34209403054259246, v_measure_score: 0.04343772940723347\n",
      "model: distiluse-base-multilingual-cased-v1, input: paragraph0, linkage: single, metric: l1, homogeneity_score: 0.02319122940073279, completeness_score: 0.34209403054259246, v_measure_score: 0.04343772940723347\n",
      "model: distiluse-base-multilingual-cased-v1, input: paragraph0, linkage: single, metric: l2, homogeneity_score: 0.02319122940073279, completeness_score: 0.34209403054259246, v_measure_score: 0.04343772940723347\n",
      "model: distiluse-base-multilingual-cased-v1, input: paragraph0, linkage: single, metric: manhattan, homogeneity_score: 0.02319122940073279, completeness_score: 0.34209403054259246, v_measure_score: 0.04343772940723347\n",
      "model: distiluse-base-multilingual-cased-v1, input: paragraph0, linkage: single, metric: cosine, homogeneity_score: 0.023558865680309394, completeness_score: 0.34751703656270755, v_measure_score: 0.04412632098453148\n",
      "model: distiluse-base-multilingual-cased-v1, input: paragraph1, linkage: ward, metric: euclidean, homogeneity_score: 0.6764104782395922, completeness_score: 0.6431797627550823, v_measure_score: 0.6593767025607283\n",
      "model: distiluse-base-multilingual-cased-v1, input: paragraph1, linkage: complete, metric: euclidean, homogeneity_score: 0.578235345116541, completeness_score: 0.6045720217094694, v_measure_score: 0.5911104739887936\n",
      "model: distiluse-base-multilingual-cased-v1, input: paragraph1, linkage: complete, metric: l1, homogeneity_score: 0.5579565918764293, completeness_score: 0.5824621458500706, v_measure_score: 0.5699460786542728\n",
      "model: distiluse-base-multilingual-cased-v1, input: paragraph1, linkage: complete, metric: l2, homogeneity_score: 0.578235345116541, completeness_score: 0.6045720217094694, v_measure_score: 0.5911104739887936\n",
      "model: distiluse-base-multilingual-cased-v1, input: paragraph1, linkage: complete, metric: manhattan, homogeneity_score: 0.5579565918764293, completeness_score: 0.5824621458500706, v_measure_score: 0.5699460786542728\n",
      "model: distiluse-base-multilingual-cased-v1, input: paragraph1, linkage: complete, metric: cosine, homogeneity_score: 0.5558477889197063, completeness_score: 0.5711019787160351, v_measure_score: 0.5633716448301958\n",
      "model: distiluse-base-multilingual-cased-v1, input: paragraph1, linkage: average, metric: euclidean, homogeneity_score: 0.31144293265544964, completeness_score: 0.6950240023113246, v_measure_score: 0.4301389464978554\n",
      "model: distiluse-base-multilingual-cased-v1, input: paragraph1, linkage: average, metric: l1, homogeneity_score: 0.2880142148586772, completeness_score: 0.6658999488446535, v_measure_score: 0.4021088232852214\n",
      "model: distiluse-base-multilingual-cased-v1, input: paragraph1, linkage: average, metric: l2, homogeneity_score: 0.31144293265544964, completeness_score: 0.6950240023113246, v_measure_score: 0.4301389464978554\n",
      "model: distiluse-base-multilingual-cased-v1, input: paragraph1, linkage: average, metric: manhattan, homogeneity_score: 0.2880142148586772, completeness_score: 0.6658999488446535, v_measure_score: 0.4021088232852214\n",
      "model: distiluse-base-multilingual-cased-v1, input: paragraph1, linkage: average, metric: cosine, homogeneity_score: 0.32746429273917643, completeness_score: 0.7333848858625085, v_measure_score: 0.45276438498283345\n",
      "model: distiluse-base-multilingual-cased-v1, input: paragraph1, linkage: single, metric: euclidean, homogeneity_score: 0.0439159286128842, completeness_score: 0.38141755141408923, v_measure_score: 0.07876316700270092\n",
      "model: distiluse-base-multilingual-cased-v1, input: paragraph1, linkage: single, metric: l1, homogeneity_score: 0.042429654124450475, completeness_score: 0.36850899649988655, v_measure_score: 0.07609753543251899\n",
      "model: distiluse-base-multilingual-cased-v1, input: paragraph1, linkage: single, metric: l2, homogeneity_score: 0.0439159286128842, completeness_score: 0.38141755141408923, v_measure_score: 0.07876316700270092\n",
      "model: distiluse-base-multilingual-cased-v1, input: paragraph1, linkage: single, metric: manhattan, homogeneity_score: 0.042429654124450475, completeness_score: 0.36850899649988655, v_measure_score: 0.07609753543251899\n",
      "model: distiluse-base-multilingual-cased-v1, input: paragraph1, linkage: single, metric: cosine, homogeneity_score: 0.04280934995714994, completeness_score: 0.37180672147951677, v_measure_score: 0.07677851946782786\n",
      "model: distiluse-base-multilingual-cased-v1, input: title&paragraph0, linkage: ward, metric: euclidean, homogeneity_score: 0.8713315336849909, completeness_score: 0.8163578278117573, v_measure_score: 0.8429493417107574\n",
      "model: distiluse-base-multilingual-cased-v1, input: title&paragraph0, linkage: complete, metric: euclidean, homogeneity_score: 0.8053238092191827, completeness_score: 0.79985063156838, v_measure_score: 0.8025778894223815\n",
      "model: distiluse-base-multilingual-cased-v1, input: title&paragraph0, linkage: complete, metric: l1, homogeneity_score: 0.823321479250015, completeness_score: 0.837776383530537, v_measure_score: 0.8304860379682685\n",
      "model: distiluse-base-multilingual-cased-v1, input: title&paragraph0, linkage: complete, metric: l2, homogeneity_score: 0.8053238092191827, completeness_score: 0.79985063156838, v_measure_score: 0.8025778894223815\n",
      "model: distiluse-base-multilingual-cased-v1, input: title&paragraph0, linkage: complete, metric: manhattan, homogeneity_score: 0.823321479250015, completeness_score: 0.837776383530537, v_measure_score: 0.8304860379682685\n",
      "model: distiluse-base-multilingual-cased-v1, input: title&paragraph0, linkage: complete, metric: cosine, homogeneity_score: 0.7780458112793877, completeness_score: 0.854569535635769, v_measure_score: 0.8145142686606566\n",
      "model: distiluse-base-multilingual-cased-v1, input: title&paragraph0, linkage: average, metric: euclidean, homogeneity_score: 0.5728983950431636, completeness_score: 0.8786106772004462, v_measure_score: 0.693560455750901\n",
      "model: distiluse-base-multilingual-cased-v1, input: title&paragraph0, linkage: average, metric: l1, homogeneity_score: 0.670880257736747, completeness_score: 0.8881943550803028, v_measure_score: 0.7643919706702582\n",
      "model: distiluse-base-multilingual-cased-v1, input: title&paragraph0, linkage: average, metric: l2, homogeneity_score: 0.5728983950431636, completeness_score: 0.8786106772004462, v_measure_score: 0.693560455750901\n",
      "model: distiluse-base-multilingual-cased-v1, input: title&paragraph0, linkage: average, metric: manhattan, homogeneity_score: 0.670880257736747, completeness_score: 0.8881943550803028, v_measure_score: 0.7643919706702582\n",
      "model: distiluse-base-multilingual-cased-v1, input: title&paragraph0, linkage: average, metric: cosine, homogeneity_score: 0.6831736836205567, completeness_score: 0.8760067676006064, v_measure_score: 0.767665820629704\n",
      "model: distiluse-base-multilingual-cased-v1, input: title&paragraph0, linkage: single, metric: euclidean, homogeneity_score: 0.09310497060687928, completeness_score: 0.7098987292725879, v_measure_score: 0.16461966571936415\n",
      "model: distiluse-base-multilingual-cased-v1, input: title&paragraph0, linkage: single, metric: l1, homogeneity_score: 0.09211420927755723, completeness_score: 0.7023444579580317, v_measure_score: 0.16286789244906982\n",
      "model: distiluse-base-multilingual-cased-v1, input: title&paragraph0, linkage: single, metric: l2, homogeneity_score: 0.09310497060687928, completeness_score: 0.7098987292725879, v_measure_score: 0.16461966571936415\n",
      "model: distiluse-base-multilingual-cased-v1, input: title&paragraph0, linkage: single, metric: manhattan, homogeneity_score: 0.09211420927755723, completeness_score: 0.7023444579580317, v_measure_score: 0.16286789244906982\n",
      "model: distiluse-base-multilingual-cased-v1, input: title&paragraph0, linkage: single, metric: cosine, homogeneity_score: 0.11233475788514008, completeness_score: 0.7496392230294271, v_measure_score: 0.19538998272515506\n",
      "model: distiluse-base-multilingual-cased-v1, input: paragraph0&paragraph1, linkage: ward, metric: euclidean, homogeneity_score: 0.8124353368440963, completeness_score: 0.7565547519108132, v_measure_score: 0.7834999330013963\n",
      "model: distiluse-base-multilingual-cased-v1, input: paragraph0&paragraph1, linkage: complete, metric: euclidean, homogeneity_score: 0.7922432333313194, completeness_score: 0.7849884217730354, v_measure_score: 0.7885991425298549\n",
      "model: distiluse-base-multilingual-cased-v1, input: paragraph0&paragraph1, linkage: complete, metric: l1, homogeneity_score: 0.7569198886514321, completeness_score: 0.7659156633729004, v_measure_score: 0.7613912058540385\n",
      "model: distiluse-base-multilingual-cased-v1, input: paragraph0&paragraph1, linkage: complete, metric: l2, homogeneity_score: 0.7922432333313194, completeness_score: 0.7849884217730354, v_measure_score: 0.7885991425298549\n",
      "model: distiluse-base-multilingual-cased-v1, input: paragraph0&paragraph1, linkage: complete, metric: manhattan, homogeneity_score: 0.7569198886514321, completeness_score: 0.7659156633729004, v_measure_score: 0.7613912058540385\n",
      "model: distiluse-base-multilingual-cased-v1, input: paragraph0&paragraph1, linkage: complete, metric: cosine, homogeneity_score: 0.7541974521561333, completeness_score: 0.8004173950498104, v_measure_score: 0.776620345666937\n",
      "model: distiluse-base-multilingual-cased-v1, input: paragraph0&paragraph1, linkage: average, metric: euclidean, homogeneity_score: 0.5384512440629096, completeness_score: 0.9057054430934264, v_measure_score: 0.6753813168964138\n",
      "model: distiluse-base-multilingual-cased-v1, input: paragraph0&paragraph1, linkage: average, metric: l1, homogeneity_score: 0.5147879754555125, completeness_score: 0.882346992378563, v_measure_score: 0.6502186722303333\n",
      "model: distiluse-base-multilingual-cased-v1, input: paragraph0&paragraph1, linkage: average, metric: l2, homogeneity_score: 0.5384512440629096, completeness_score: 0.9057054430934264, v_measure_score: 0.6753813168964138\n",
      "model: distiluse-base-multilingual-cased-v1, input: paragraph0&paragraph1, linkage: average, metric: manhattan, homogeneity_score: 0.5147879754555125, completeness_score: 0.882346992378563, v_measure_score: 0.6502186722303333\n",
      "model: distiluse-base-multilingual-cased-v1, input: paragraph0&paragraph1, linkage: average, metric: cosine, homogeneity_score: 0.5476851258387457, completeness_score: 0.9126689983838039, v_measure_score: 0.6845671566067087\n",
      "model: distiluse-base-multilingual-cased-v1, input: paragraph0&paragraph1, linkage: single, metric: euclidean, homogeneity_score: 0.028959856905930916, completeness_score: 0.38701774063201577, v_measure_score: 0.053887413433303645\n",
      "model: distiluse-base-multilingual-cased-v1, input: paragraph0&paragraph1, linkage: single, metric: l1, homogeneity_score: 0.02786915192879457, completeness_score: 0.37244162662293884, v_measure_score: 0.05185787060000769\n",
      "model: distiluse-base-multilingual-cased-v1, input: paragraph0&paragraph1, linkage: single, metric: l2, homogeneity_score: 0.028959856905930916, completeness_score: 0.38701774063201577, v_measure_score: 0.053887413433303645\n",
      "model: distiluse-base-multilingual-cased-v1, input: paragraph0&paragraph1, linkage: single, metric: manhattan, homogeneity_score: 0.02786915192879457, completeness_score: 0.37244162662293884, v_measure_score: 0.05185787060000769\n",
      "model: distiluse-base-multilingual-cased-v1, input: paragraph0&paragraph1, linkage: single, metric: cosine, homogeneity_score: 0.02748938420009962, completeness_score: 0.3673664341314189, v_measure_score: 0.051151213081937555\n",
      "model: distiluse-base-multilingual-cased-v1, input: title&paragraph0&paragraph1, linkage: ward, metric: euclidean, homogeneity_score: 0.8341116470427603, completeness_score: 0.7799508570781137, v_measure_score: 0.8061225539269679\n",
      "model: distiluse-base-multilingual-cased-v1, input: title&paragraph0&paragraph1, linkage: complete, metric: euclidean, homogeneity_score: 0.7348954125835985, completeness_score: 0.7392763916694955, v_measure_score: 0.7370793923772437\n",
      "model: distiluse-base-multilingual-cased-v1, input: title&paragraph0&paragraph1, linkage: complete, metric: l1, homogeneity_score: 0.7388991562171439, completeness_score: 0.7228626462267213, v_measure_score: 0.730792935572453\n",
      "model: distiluse-base-multilingual-cased-v1, input: title&paragraph0&paragraph1, linkage: complete, metric: l2, homogeneity_score: 0.7348954125835985, completeness_score: 0.7392763916694955, v_measure_score: 0.7370793923772437\n",
      "model: distiluse-base-multilingual-cased-v1, input: title&paragraph0&paragraph1, linkage: complete, metric: manhattan, homogeneity_score: 0.7388991562171439, completeness_score: 0.7228626462267213, v_measure_score: 0.730792935572453\n",
      "model: distiluse-base-multilingual-cased-v1, input: title&paragraph0&paragraph1, linkage: complete, metric: cosine, homogeneity_score: 0.7557336372901851, completeness_score: 0.7707507328120534, v_measure_score: 0.7631683182096598\n",
      "model: distiluse-base-multilingual-cased-v1, input: title&paragraph0&paragraph1, linkage: average, metric: euclidean, homogeneity_score: 0.6959137552052221, completeness_score: 0.9057583718620781, v_measure_score: 0.7870895662338278\n",
      "model: distiluse-base-multilingual-cased-v1, input: title&paragraph0&paragraph1, linkage: average, metric: l1, homogeneity_score: 0.6988189120045234, completeness_score: 0.9227258005932327, v_measure_score: 0.7953135489135548\n",
      "model: distiluse-base-multilingual-cased-v1, input: title&paragraph0&paragraph1, linkage: average, metric: l2, homogeneity_score: 0.6959137552052221, completeness_score: 0.9057583718620781, v_measure_score: 0.7870895662338278\n",
      "model: distiluse-base-multilingual-cased-v1, input: title&paragraph0&paragraph1, linkage: average, metric: manhattan, homogeneity_score: 0.6988189120045234, completeness_score: 0.9227258005932327, v_measure_score: 0.7953135489135548\n",
      "model: distiluse-base-multilingual-cased-v1, input: title&paragraph0&paragraph1, linkage: average, metric: cosine, homogeneity_score: 0.7529822456489931, completeness_score: 0.9100307707047001, v_measure_score: 0.8240909801624442\n",
      "model: distiluse-base-multilingual-cased-v1, input: title&paragraph0&paragraph1, linkage: single, metric: euclidean, homogeneity_score: 0.09397319712428076, completeness_score: 0.6971079884114316, v_measure_score: 0.1656200845366735\n",
      "model: distiluse-base-multilingual-cased-v1, input: title&paragraph0&paragraph1, linkage: single, metric: l1, homogeneity_score: 0.09397319712428075, completeness_score: 0.6971079884114315, v_measure_score: 0.16562008453667346\n",
      "model: distiluse-base-multilingual-cased-v1, input: title&paragraph0&paragraph1, linkage: single, metric: l2, homogeneity_score: 0.09397319712428076, completeness_score: 0.6971079884114316, v_measure_score: 0.1656200845366735\n",
      "model: distiluse-base-multilingual-cased-v1, input: title&paragraph0&paragraph1, linkage: single, metric: manhattan, homogeneity_score: 0.09397319712428075, completeness_score: 0.6971079884114315, v_measure_score: 0.16562008453667346\n",
      "model: distiluse-base-multilingual-cased-v1, input: title&paragraph0&paragraph1, linkage: single, metric: cosine, homogeneity_score: 0.0934558518872977, completeness_score: 0.6932702398990496, v_measure_score: 0.16470830581140078\n"
     ]
    }
   ],
   "source": [
    "df_model_input = pd.DataFrame(columns=['model_name', 'input_choice', 'linkage', 'metric', 'homogeneity_score', 'completeness_score', 'v_measure_score'])\n",
    "\n",
    "for model_name in model_names:\n",
    "    for input_embedding_key in input_choices_embedding[model_name].keys():\n",
    "        for linkage in linkage_choice:\n",
    "            for metric in metric_choice:\n",
    "                if linkage == 'ward' and metric != 'euclidean':\n",
    "                    continue\n",
    "                else:\n",
    "                    cluster_model = AgglomerativeClustering(\n",
    "                        n_clusters=n_cluster_of_input,\n",
    "                        metric=metric,\n",
    "                        linkage=linkage,\n",
    "                        compute_distances=compute_distances_setting,\n",
    "                        compute_full_tree=compute_full_tree_setting\n",
    "                    )\n",
    "                    input_embedding = input_choices_embedding[model_name][input_embedding_key]\n",
    "                    cluster_model.fit_predict(input_embedding)\n",
    "                    cluser_result = cluster_model.labels_\n",
    "\n",
    "                    homogeneity_score, completeness_score, v_measure_score = metrics.homogeneity_completeness_v_measure(topic_num_list, cluser_result)\n",
    "                    print(f\"model: {model_name}, input: {input_embedding_key}, linkage: {linkage}, metric: {metric}, homogeneity_score: {homogeneity_score}, completeness_score: {completeness_score}, v_measure_score: {v_measure_score}\")\n",
    "                    new_row = pd.DataFrame([[model_name, input_embedding_key, linkage, metric, homogeneity_score, completeness_score, v_measure_score]], columns=df_model_input.columns)\n",
    "                    df_model_input = pd.concat([df_model_input, new_row], ignore_index=True)"
   ]
  },
  {
   "cell_type": "code",
   "execution_count": 76,
   "metadata": {},
   "outputs": [
    {
     "data": {
      "text/html": [
       "<div>\n",
       "<style scoped>\n",
       "    .dataframe tbody tr th:only-of-type {\n",
       "        vertical-align: middle;\n",
       "    }\n",
       "\n",
       "    .dataframe tbody tr th {\n",
       "        vertical-align: top;\n",
       "    }\n",
       "\n",
       "    .dataframe thead th {\n",
       "        text-align: right;\n",
       "    }\n",
       "</style>\n",
       "<table border=\"1\" class=\"dataframe\">\n",
       "  <thead>\n",
       "    <tr style=\"text-align: right;\">\n",
       "      <th></th>\n",
       "      <th>model_name</th>\n",
       "      <th>input_choice</th>\n",
       "      <th>linkage</th>\n",
       "      <th>metric</th>\n",
       "      <th>homogeneity_score</th>\n",
       "      <th>completeness_score</th>\n",
       "      <th>v_measure_score</th>\n",
       "    </tr>\n",
       "  </thead>\n",
       "  <tbody>\n",
       "    <tr>\n",
       "      <th>304</th>\n",
       "      <td>distiluse-base-multilingual-cased-v1</td>\n",
       "      <td>paragraph0</td>\n",
       "      <td>ward</td>\n",
       "      <td>euclidean</td>\n",
       "      <td>0.889506</td>\n",
       "      <td>0.839572</td>\n",
       "      <td>0.863818</td>\n",
       "    </tr>\n",
       "    <tr>\n",
       "      <th>256</th>\n",
       "      <td>distiluse-base-multilingual-cased-v2</td>\n",
       "      <td>paragraph0&amp;paragraph1</td>\n",
       "      <td>ward</td>\n",
       "      <td>euclidean</td>\n",
       "      <td>0.884629</td>\n",
       "      <td>0.836867</td>\n",
       "      <td>0.860085</td>\n",
       "    </tr>\n",
       "    <tr>\n",
       "      <th>80</th>\n",
       "      <td>paraphrase-multilingual-MiniLM-L12-v2</td>\n",
       "      <td>title&amp;paragraph0&amp;paragraph1</td>\n",
       "      <td>ward</td>\n",
       "      <td>euclidean</td>\n",
       "      <td>0.878640</td>\n",
       "      <td>0.868480</td>\n",
       "      <td>0.873530</td>\n",
       "    </tr>\n",
       "    <tr>\n",
       "      <th>160</th>\n",
       "      <td>paraphrase-multilingual-mpnet-base-v2</td>\n",
       "      <td>paragraph0&amp;paragraph1</td>\n",
       "      <td>ward</td>\n",
       "      <td>euclidean</td>\n",
       "      <td>0.878104</td>\n",
       "      <td>0.859611</td>\n",
       "      <td>0.868759</td>\n",
       "    </tr>\n",
       "    <tr>\n",
       "      <th>48</th>\n",
       "      <td>paraphrase-multilingual-MiniLM-L12-v2</td>\n",
       "      <td>title&amp;paragraph0</td>\n",
       "      <td>ward</td>\n",
       "      <td>euclidean</td>\n",
       "      <td>0.875843</td>\n",
       "      <td>0.846850</td>\n",
       "      <td>0.861103</td>\n",
       "    </tr>\n",
       "    <tr>\n",
       "      <th>336</th>\n",
       "      <td>distiluse-base-multilingual-cased-v1</td>\n",
       "      <td>title&amp;paragraph0</td>\n",
       "      <td>ward</td>\n",
       "      <td>euclidean</td>\n",
       "      <td>0.871332</td>\n",
       "      <td>0.816358</td>\n",
       "      <td>0.842949</td>\n",
       "    </tr>\n",
       "    <tr>\n",
       "      <th>272</th>\n",
       "      <td>distiluse-base-multilingual-cased-v2</td>\n",
       "      <td>title&amp;paragraph0&amp;paragraph1</td>\n",
       "      <td>ward</td>\n",
       "      <td>euclidean</td>\n",
       "      <td>0.870328</td>\n",
       "      <td>0.838200</td>\n",
       "      <td>0.853962</td>\n",
       "    </tr>\n",
       "    <tr>\n",
       "      <th>112</th>\n",
       "      <td>paraphrase-multilingual-mpnet-base-v2</td>\n",
       "      <td>paragraph0</td>\n",
       "      <td>ward</td>\n",
       "      <td>euclidean</td>\n",
       "      <td>0.853712</td>\n",
       "      <td>0.808544</td>\n",
       "      <td>0.830515</td>\n",
       "    </tr>\n",
       "    <tr>\n",
       "      <th>16</th>\n",
       "      <td>paraphrase-multilingual-MiniLM-L12-v2</td>\n",
       "      <td>paragraph0</td>\n",
       "      <td>ward</td>\n",
       "      <td>euclidean</td>\n",
       "      <td>0.849370</td>\n",
       "      <td>0.810700</td>\n",
       "      <td>0.829584</td>\n",
       "    </tr>\n",
       "    <tr>\n",
       "      <th>176</th>\n",
       "      <td>paraphrase-multilingual-mpnet-base-v2</td>\n",
       "      <td>title&amp;paragraph0&amp;paragraph1</td>\n",
       "      <td>ward</td>\n",
       "      <td>euclidean</td>\n",
       "      <td>0.842800</td>\n",
       "      <td>0.836909</td>\n",
       "      <td>0.839844</td>\n",
       "    </tr>\n",
       "  </tbody>\n",
       "</table>\n",
       "</div>"
      ],
      "text/plain": [
       "                                model_name                 input_choice  \\\n",
       "304   distiluse-base-multilingual-cased-v1                   paragraph0   \n",
       "256   distiluse-base-multilingual-cased-v2        paragraph0&paragraph1   \n",
       "80   paraphrase-multilingual-MiniLM-L12-v2  title&paragraph0&paragraph1   \n",
       "160  paraphrase-multilingual-mpnet-base-v2        paragraph0&paragraph1   \n",
       "48   paraphrase-multilingual-MiniLM-L12-v2             title&paragraph0   \n",
       "336   distiluse-base-multilingual-cased-v1             title&paragraph0   \n",
       "272   distiluse-base-multilingual-cased-v2  title&paragraph0&paragraph1   \n",
       "112  paraphrase-multilingual-mpnet-base-v2                   paragraph0   \n",
       "16   paraphrase-multilingual-MiniLM-L12-v2                   paragraph0   \n",
       "176  paraphrase-multilingual-mpnet-base-v2  title&paragraph0&paragraph1   \n",
       "\n",
       "    linkage     metric  homogeneity_score  completeness_score  v_measure_score  \n",
       "304    ward  euclidean           0.889506            0.839572         0.863818  \n",
       "256    ward  euclidean           0.884629            0.836867         0.860085  \n",
       "80     ward  euclidean           0.878640            0.868480         0.873530  \n",
       "160    ward  euclidean           0.878104            0.859611         0.868759  \n",
       "48     ward  euclidean           0.875843            0.846850         0.861103  \n",
       "336    ward  euclidean           0.871332            0.816358         0.842949  \n",
       "272    ward  euclidean           0.870328            0.838200         0.853962  \n",
       "112    ward  euclidean           0.853712            0.808544         0.830515  \n",
       "16     ward  euclidean           0.849370            0.810700         0.829584  \n",
       "176    ward  euclidean           0.842800            0.836909         0.839844  "
      ]
     },
     "execution_count": 76,
     "metadata": {},
     "output_type": "execute_result"
    }
   ],
   "source": [
    "df_model_input.sort_values(by=['homogeneity_score', 'homogeneity_score', 'v_measure_score'], ascending=False)[:10]"
   ]
  },
  {
   "cell_type": "code",
   "execution_count": 66,
   "metadata": {},
   "outputs": [
    {
     "data": {
      "text/html": [
       "<div>\n",
       "<style scoped>\n",
       "    .dataframe tbody tr th:only-of-type {\n",
       "        vertical-align: middle;\n",
       "    }\n",
       "\n",
       "    .dataframe tbody tr th {\n",
       "        vertical-align: top;\n",
       "    }\n",
       "\n",
       "    .dataframe thead th {\n",
       "        text-align: right;\n",
       "    }\n",
       "</style>\n",
       "<table border=\"1\" class=\"dataframe\">\n",
       "  <thead>\n",
       "    <tr style=\"text-align: right;\">\n",
       "      <th></th>\n",
       "      <th>model_name</th>\n",
       "      <th>input_choice</th>\n",
       "      <th>linkage</th>\n",
       "      <th>homogeneity_score</th>\n",
       "      <th>completeness_score</th>\n",
       "      <th>v_measure_score</th>\n",
       "    </tr>\n",
       "  </thead>\n",
       "  <tbody>\n",
       "    <tr>\n",
       "      <th>33</th>\n",
       "      <td>paraphrase-multilingual-mpnet-base-v2</td>\n",
       "      <td>title&amp;paragraph0&amp;paragraph1</td>\n",
       "      <td>complete</td>\n",
       "      <td>0.818628</td>\n",
       "      <td>0.795156</td>\n",
       "      <td>0.806721</td>\n",
       "    </tr>\n",
       "    <tr>\n",
       "      <th>57</th>\n",
       "      <td>distiluse-base-multilingual-cased-v1</td>\n",
       "      <td>paragraph0</td>\n",
       "      <td>complete</td>\n",
       "      <td>0.817404</td>\n",
       "      <td>0.839673</td>\n",
       "      <td>0.828389</td>\n",
       "    </tr>\n",
       "    <tr>\n",
       "      <th>30</th>\n",
       "      <td>paraphrase-multilingual-mpnet-base-v2</td>\n",
       "      <td>paragraph0&amp;paragraph1</td>\n",
       "      <td>complete</td>\n",
       "      <td>0.796570</td>\n",
       "      <td>0.798271</td>\n",
       "      <td>0.797420</td>\n",
       "    </tr>\n",
       "    <tr>\n",
       "      <th>3</th>\n",
       "      <td>paraphrase-multilingual-MiniLM-L12-v2</td>\n",
       "      <td>paragraph0</td>\n",
       "      <td>complete</td>\n",
       "      <td>0.788829</td>\n",
       "      <td>0.795069</td>\n",
       "      <td>0.791937</td>\n",
       "    </tr>\n",
       "    <tr>\n",
       "      <th>15</th>\n",
       "      <td>paraphrase-multilingual-MiniLM-L12-v2</td>\n",
       "      <td>title&amp;paragraph0&amp;paragraph1</td>\n",
       "      <td>complete</td>\n",
       "      <td>0.778965</td>\n",
       "      <td>0.774336</td>\n",
       "      <td>0.776644</td>\n",
       "    </tr>\n",
       "    <tr>\n",
       "      <th>63</th>\n",
       "      <td>distiluse-base-multilingual-cased-v1</td>\n",
       "      <td>title&amp;paragraph0</td>\n",
       "      <td>complete</td>\n",
       "      <td>0.778046</td>\n",
       "      <td>0.854570</td>\n",
       "      <td>0.814514</td>\n",
       "    </tr>\n",
       "    <tr>\n",
       "      <th>12</th>\n",
       "      <td>paraphrase-multilingual-MiniLM-L12-v2</td>\n",
       "      <td>paragraph0&amp;paragraph1</td>\n",
       "      <td>complete</td>\n",
       "      <td>0.767421</td>\n",
       "      <td>0.764130</td>\n",
       "      <td>0.765772</td>\n",
       "    </tr>\n",
       "    <tr>\n",
       "      <th>69</th>\n",
       "      <td>distiluse-base-multilingual-cased-v1</td>\n",
       "      <td>title&amp;paragraph0&amp;paragraph1</td>\n",
       "      <td>complete</td>\n",
       "      <td>0.755734</td>\n",
       "      <td>0.770751</td>\n",
       "      <td>0.763168</td>\n",
       "    </tr>\n",
       "    <tr>\n",
       "      <th>66</th>\n",
       "      <td>distiluse-base-multilingual-cased-v1</td>\n",
       "      <td>paragraph0&amp;paragraph1</td>\n",
       "      <td>complete</td>\n",
       "      <td>0.754197</td>\n",
       "      <td>0.800417</td>\n",
       "      <td>0.776620</td>\n",
       "    </tr>\n",
       "    <tr>\n",
       "      <th>70</th>\n",
       "      <td>distiluse-base-multilingual-cased-v1</td>\n",
       "      <td>title&amp;paragraph0&amp;paragraph1</td>\n",
       "      <td>average</td>\n",
       "      <td>0.752982</td>\n",
       "      <td>0.910031</td>\n",
       "      <td>0.824091</td>\n",
       "    </tr>\n",
       "  </tbody>\n",
       "</table>\n",
       "</div>"
      ],
      "text/plain": [
       "                               model_name                 input_choice  \\\n",
       "33  paraphrase-multilingual-mpnet-base-v2  title&paragraph0&paragraph1   \n",
       "57   distiluse-base-multilingual-cased-v1                   paragraph0   \n",
       "30  paraphrase-multilingual-mpnet-base-v2        paragraph0&paragraph1   \n",
       "3   paraphrase-multilingual-MiniLM-L12-v2                   paragraph0   \n",
       "15  paraphrase-multilingual-MiniLM-L12-v2  title&paragraph0&paragraph1   \n",
       "63   distiluse-base-multilingual-cased-v1             title&paragraph0   \n",
       "12  paraphrase-multilingual-MiniLM-L12-v2        paragraph0&paragraph1   \n",
       "69   distiluse-base-multilingual-cased-v1  title&paragraph0&paragraph1   \n",
       "66   distiluse-base-multilingual-cased-v1        paragraph0&paragraph1   \n",
       "70   distiluse-base-multilingual-cased-v1  title&paragraph0&paragraph1   \n",
       "\n",
       "     linkage  homogeneity_score  completeness_score  v_measure_score  \n",
       "33  complete           0.818628            0.795156         0.806721  \n",
       "57  complete           0.817404            0.839673         0.828389  \n",
       "30  complete           0.796570            0.798271         0.797420  \n",
       "3   complete           0.788829            0.795069         0.791937  \n",
       "15  complete           0.778965            0.774336         0.776644  \n",
       "63  complete           0.778046            0.854570         0.814514  \n",
       "12  complete           0.767421            0.764130         0.765772  \n",
       "69  complete           0.755734            0.770751         0.763168  \n",
       "66  complete           0.754197            0.800417         0.776620  \n",
       "70   average           0.752982            0.910031         0.824091  "
      ]
     },
     "execution_count": 66,
     "metadata": {},
     "output_type": "execute_result"
    }
   ],
   "source": [
    "#df_model_input.sort_values(by=['homogeneity_score', 'homogeneity_score', 'v_measure_score'], ascending=False)[:10]# cosin"
   ]
  },
  {
   "cell_type": "code",
   "execution_count": 37,
   "metadata": {},
   "outputs": [
    {
     "data": {
      "text/html": [
       "<div>\n",
       "<style scoped>\n",
       "    .dataframe tbody tr th:only-of-type {\n",
       "        vertical-align: middle;\n",
       "    }\n",
       "\n",
       "    .dataframe tbody tr th {\n",
       "        vertical-align: top;\n",
       "    }\n",
       "\n",
       "    .dataframe thead th {\n",
       "        text-align: right;\n",
       "    }\n",
       "</style>\n",
       "<table border=\"1\" class=\"dataframe\">\n",
       "  <thead>\n",
       "    <tr style=\"text-align: right;\">\n",
       "      <th></th>\n",
       "      <th>model_name</th>\n",
       "      <th>input_choice</th>\n",
       "      <th>linkage</th>\n",
       "      <th>homogeneity_score</th>\n",
       "      <th>completeness_score</th>\n",
       "      <th>v_measure_score</th>\n",
       "    </tr>\n",
       "  </thead>\n",
       "  <tbody>\n",
       "    <tr>\n",
       "      <th>16</th>\n",
       "      <td>paraphrase-multilingual-MiniLM-L12-v2</td>\n",
       "      <td>paragraph0&amp;paragraph1</td>\n",
       "      <td>ward</td>\n",
       "      <td>0.889619</td>\n",
       "      <td>0.842819</td>\n",
       "      <td>0.865587</td>\n",
       "    </tr>\n",
       "    <tr>\n",
       "      <th>64</th>\n",
       "      <td>distiluse-base-multilingual-cased-v2</td>\n",
       "      <td>paragraph0&amp;paragraph1</td>\n",
       "      <td>ward</td>\n",
       "      <td>0.883592</td>\n",
       "      <td>0.838561</td>\n",
       "      <td>0.860488</td>\n",
       "    </tr>\n",
       "    <tr>\n",
       "      <th>76</th>\n",
       "      <td>distiluse-base-multilingual-cased-v1</td>\n",
       "      <td>paragraph0</td>\n",
       "      <td>ward</td>\n",
       "      <td>0.877803</td>\n",
       "      <td>0.823013</td>\n",
       "      <td>0.849526</td>\n",
       "    </tr>\n",
       "    <tr>\n",
       "      <th>40</th>\n",
       "      <td>paraphrase-multilingual-mpnet-base-v2</td>\n",
       "      <td>paragraph0&amp;paragraph1</td>\n",
       "      <td>ward</td>\n",
       "      <td>0.876809</td>\n",
       "      <td>0.853722</td>\n",
       "      <td>0.865112</td>\n",
       "    </tr>\n",
       "    <tr>\n",
       "      <th>84</th>\n",
       "      <td>distiluse-base-multilingual-cased-v1</td>\n",
       "      <td>title&amp;paragraph0</td>\n",
       "      <td>ward</td>\n",
       "      <td>0.867753</td>\n",
       "      <td>0.809749</td>\n",
       "      <td>0.837748</td>\n",
       "    </tr>\n",
       "    <tr>\n",
       "      <th>28</th>\n",
       "      <td>paraphrase-multilingual-mpnet-base-v2</td>\n",
       "      <td>paragraph0</td>\n",
       "      <td>ward</td>\n",
       "      <td>0.864062</td>\n",
       "      <td>0.822988</td>\n",
       "      <td>0.843025</td>\n",
       "    </tr>\n",
       "    <tr>\n",
       "      <th>12</th>\n",
       "      <td>paraphrase-multilingual-MiniLM-L12-v2</td>\n",
       "      <td>title&amp;paragraph0</td>\n",
       "      <td>ward</td>\n",
       "      <td>0.860418</td>\n",
       "      <td>0.827290</td>\n",
       "      <td>0.843529</td>\n",
       "    </tr>\n",
       "    <tr>\n",
       "      <th>68</th>\n",
       "      <td>distiluse-base-multilingual-cased-v2</td>\n",
       "      <td>title&amp;paragraph0&amp;paragraph1</td>\n",
       "      <td>ward</td>\n",
       "      <td>0.856153</td>\n",
       "      <td>0.820478</td>\n",
       "      <td>0.837936</td>\n",
       "    </tr>\n",
       "    <tr>\n",
       "      <th>92</th>\n",
       "      <td>distiluse-base-multilingual-cased-v1</td>\n",
       "      <td>title&amp;paragraph0&amp;paragraph1</td>\n",
       "      <td>ward</td>\n",
       "      <td>0.855854</td>\n",
       "      <td>0.820358</td>\n",
       "      <td>0.837730</td>\n",
       "    </tr>\n",
       "    <tr>\n",
       "      <th>44</th>\n",
       "      <td>paraphrase-multilingual-mpnet-base-v2</td>\n",
       "      <td>title&amp;paragraph0&amp;paragraph1</td>\n",
       "      <td>ward</td>\n",
       "      <td>0.852397</td>\n",
       "      <td>0.828500</td>\n",
       "      <td>0.840278</td>\n",
       "    </tr>\n",
       "  </tbody>\n",
       "</table>\n",
       "</div>"
      ],
      "text/plain": [
       "                               model_name                 input_choice  \\\n",
       "16  paraphrase-multilingual-MiniLM-L12-v2        paragraph0&paragraph1   \n",
       "64   distiluse-base-multilingual-cased-v2        paragraph0&paragraph1   \n",
       "76   distiluse-base-multilingual-cased-v1                   paragraph0   \n",
       "40  paraphrase-multilingual-mpnet-base-v2        paragraph0&paragraph1   \n",
       "84   distiluse-base-multilingual-cased-v1             title&paragraph0   \n",
       "28  paraphrase-multilingual-mpnet-base-v2                   paragraph0   \n",
       "12  paraphrase-multilingual-MiniLM-L12-v2             title&paragraph0   \n",
       "68   distiluse-base-multilingual-cased-v2  title&paragraph0&paragraph1   \n",
       "92   distiluse-base-multilingual-cased-v1  title&paragraph0&paragraph1   \n",
       "44  paraphrase-multilingual-mpnet-base-v2  title&paragraph0&paragraph1   \n",
       "\n",
       "   linkage  homogeneity_score  completeness_score  v_measure_score  \n",
       "16    ward           0.889619            0.842819         0.865587  \n",
       "64    ward           0.883592            0.838561         0.860488  \n",
       "76    ward           0.877803            0.823013         0.849526  \n",
       "40    ward           0.876809            0.853722         0.865112  \n",
       "84    ward           0.867753            0.809749         0.837748  \n",
       "28    ward           0.864062            0.822988         0.843025  \n",
       "12    ward           0.860418            0.827290         0.843529  \n",
       "68    ward           0.856153            0.820478         0.837936  \n",
       "92    ward           0.855854            0.820358         0.837730  \n",
       "44    ward           0.852397            0.828500         0.840278  "
      ]
     },
     "execution_count": 37,
     "metadata": {},
     "output_type": "execute_result"
    }
   ],
   "source": [
    "# df_model_input.sort_values(by=['homogeneity_score', 'homogeneity_score', 'v_measure_score'], ascending=False)[:10] old version"
   ]
  },
  {
   "attachments": {},
   "cell_type": "markdown",
   "metadata": {},
   "source": [
    "# plot data for cluster result"
   ]
  },
  {
   "cell_type": "code",
   "execution_count": 79,
   "metadata": {},
   "outputs": [
    {
     "name": "stdout",
     "output_type": "stream",
     "text": [
      "model: distiluse-base-multilingual-cased-v1, input: paragraph0, linkage: ward, homogeneity_score: 0.8895060376866682, completeness_score: 0.839571633216868, v_measure_score: 0.863817802269826\n"
     ]
    }
   ],
   "source": [
    "model_name, input_embedding_key, linkage, metric = df_model_input.sort_values(by=['homogeneity_score', 'homogeneity_score', 'v_measure_score'], ascending=False)[:10].iloc[0][['model_name', 'input_choice', 'linkage', 'metric']]\n",
    "cluster_model = AgglomerativeClustering(\n",
    "    n_clusters=n_cluster_of_input,\n",
    "    metric=metric,\n",
    "    linkage=linkage,\n",
    "    compute_distances=compute_distances_setting,\n",
    "    compute_full_tree=compute_full_tree_setting\n",
    ")\n",
    "input_embedding = input_choices_embedding[model_name][input_embedding_key]\n",
    "cluster_model.fit_predict(input_embedding)\n",
    "cluser_result = cluster_model.labels_\n",
    "\n",
    "homogeneity_score, completeness_score, v_measure_score = metrics.homogeneity_completeness_v_measure(topic_num_list, cluser_result)\n",
    "print(f\"model: {model_name}, input: {input_embedding_key}, linkage: {linkage}, homogeneity_score: {homogeneity_score}, completeness_score: {completeness_score}, v_measure_score: {v_measure_score}\")"
   ]
  },
  {
   "cell_type": "code",
   "execution_count": 80,
   "metadata": {},
   "outputs": [
    {
     "data": {
      "image/png": "[encoded data removed]",
      "text/plain": [
       "<Figure size 640x480 with 1 Axes>"
      ]
     },
     "metadata": {},
     "output_type": "display_data"
    },
    {
     "data": {
      "text/plain": [
       "<Figure size 7000x6000 with 0 Axes>"
      ]
     },
     "metadata": {},
     "output_type": "display_data"
    }
   ],
   "source": [
    "count_dict = {cluster: {topic_num: 0 for topic_num in sorted(set(topic_num_list))} for cluster in sorted(set(cluser_result))}\n",
    "\n",
    "for cluster, topic_num in zip(cluser_result, topic_num_list):\n",
    "    count_dict[cluster][topic_num] += 1\n",
    "\n",
    "clusters = sorted(set(cluser_result))\n",
    "\n",
    "topic_num_counts = {topic_num: np.array([count_dict[cluster][topic_num] for cluster in clusters]) for topic_num in sorted(set(topic_num_list))}\n",
    "\n",
    "width = 0.6  # the width of the bars: can also be len(x) sequence\n",
    "fig, ax = plt.subplots()\n",
    "bottom = np.zeros(len(clusters))\n",
    "\n",
    "for topic_num, count in topic_num_counts.items():\n",
    "    p = ax.bar(clusters, count, width, label=topic_num, bottom=bottom)\n",
    "    bottom += count\n",
    "    ax.bar_label(p, label_type='center')\n",
    "\n",
    "# ax.set_title('Number of penguins by sex')\n",
    "plt.figure(figsize=(70, 60))\n",
    "ax.legend()\n",
    "plt.show()"
   ]
  },
  {
   "attachments": {},
   "cell_type": "markdown",
   "metadata": {},
   "source": [
    "# Descided distance_threshold"
   ]
  },
  {
   "cell_type": "code",
   "execution_count": 90,
   "metadata": {},
   "outputs": [
    {
     "data": {
      "text/plain": [
       "0.1877100858236843"
      ]
     },
     "execution_count": 90,
     "metadata": {},
     "output_type": "execute_result"
    }
   ],
   "source": [
    "cluster_model.distances_.min()"
   ]
  },
  {
   "cell_type": "code",
   "execution_count": 91,
   "metadata": {},
   "outputs": [
    {
     "data": {
      "text/plain": [
       "7.8992014904467265"
      ]
     },
     "execution_count": 91,
     "metadata": {},
     "output_type": "execute_result"
    }
   ],
   "source": [
    "cluster_model.distances_.max()"
   ]
  },
  {
   "cell_type": "code",
   "execution_count": 95,
   "metadata": {},
   "outputs": [
    {
     "name": "stdout",
     "output_type": "stream",
     "text": [
      "model: distiluse-base-multilingual-cased-v1, input: paragraph0, linkage: ward, homogeneity_score: 0.8895060376866682, completeness_score: 0.839571633216868, v_measure_score: 0.863817802269826\n"
     ]
    }
   ],
   "source": [
    "model_name, input_embedding_key, linkage, metric = df_model_input.sort_values(by=['homogeneity_score', 'homogeneity_score', 'v_measure_score'], ascending=False)[:10].iloc[0][['model_name', 'input_choice', 'linkage', 'metric']]\n",
    "cluster_model2 = AgglomerativeClustering(\n",
    "    # n_clusters=n_cluster_of_input,\n",
    "    distance_threshold=cluster_model.distances_[-(n_cluster_of_input - 1)],\n",
    "    n_clusters=None,\n",
    "    metric=metric,\n",
    "    linkage=linkage,\n",
    "    compute_distances=compute_distances_setting,\n",
    "    compute_full_tree=compute_full_tree_setting\n",
    ")\n",
    "input_embedding = input_choices_embedding[model_name][input_embedding_key]\n",
    "cluster_model2.fit(input_embedding)\n",
    "cluser_result = cluster_model2.labels_\n",
    "\n",
    "homogeneity_score, completeness_score, v_measure_score = metrics.homogeneity_completeness_v_measure(topic_num_list, cluser_result)\n",
    "print(f\"model: {model_name}, input: {input_embedding_key}, linkage: {linkage}, homogeneity_score: {homogeneity_score}, completeness_score: {completeness_score}, v_measure_score: {v_measure_score}\")"
   ]
  },
  {
   "cell_type": "code",
   "execution_count": 96,
   "metadata": {},
   "outputs": [
    {
     "data": {
      "image/png": "[encoded data removed]",
      "text/plain": [
       "<Figure size 640x480 with 1 Axes>"
      ]
     },
     "metadata": {},
     "output_type": "display_data"
    },
    {
     "data": {
      "text/plain": [
       "<Figure size 7000x6000 with 0 Axes>"
      ]
     },
     "metadata": {},
     "output_type": "display_data"
    }
   ],
   "source": [
    "count_dict = {cluster: {topic_num: 0 for topic_num in sorted(set(topic_num_list))} for cluster in sorted(set(cluser_result))}\n",
    "\n",
    "for cluster, topic_num in zip(cluser_result, topic_num_list):\n",
    "    count_dict[cluster][topic_num] += 1\n",
    "\n",
    "clusters = sorted(set(cluser_result))\n",
    "\n",
    "topic_num_counts = {topic_num: np.array([count_dict[cluster][topic_num] for cluster in clusters]) for topic_num in sorted(set(topic_num_list))}\n",
    "\n",
    "width = 0.6  # the width of the bars: can also be len(x) sequence\n",
    "fig, ax = plt.subplots()\n",
    "bottom = np.zeros(len(clusters))\n",
    "\n",
    "for topic_num, count in topic_num_counts.items():\n",
    "    p = ax.bar(clusters, count, width, label=topic_num, bottom=bottom)\n",
    "    bottom += count\n",
    "    ax.bar_label(p, label_type='center')\n",
    "\n",
    "# ax.set_title('Number of penguins by sex')\n",
    "plt.figure(figsize=(70, 60))\n",
    "ax.legend()\n",
    "plt.show()"
   ]
  },
  {
   "cell_type": "code",
   "execution_count": null,
   "metadata": {},
   "outputs": [],
   "source": []
  }
 ],
 "metadata": {
  "kernelspec": {
   "display_name": "chinese-news-otm-js66m5Na",
   "language": "python",
   "name": "python3"
  },
  "language_info": {
   "codemirror_mode": {
    "name": "ipython",
    "version": 3
   },
   "file_extension": ".py",
   "mimetype": "text/x-python",
   "name": "python",
   "nbconvert_exporter": "python",
   "pygments_lexer": "ipython3",
   "version": "3.9.16"
  },
  "orig_nbformat": 4,
  "vscode": {
   "interpreter": {
    "hash": "ef758c945cf9669ffee6272c80fe292fc3634d42f3ffc9cdb6ea652db6cb6c9e"
   }
  }
 },
 "nbformat": 4,
 "nbformat_minor": 2
}
